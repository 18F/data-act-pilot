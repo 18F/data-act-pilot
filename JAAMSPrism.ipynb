{
 "cells": [
  {
   "cell_type": "markdown",
   "metadata": {},
   "source": [
    "# SBA DATA Act Pilot: JAAMS + Prism\n",
    "\n",
    "The code below uses the JAAMS and Prism test data supplied by SBA to create a single file that contains the required DATA Act elements. This is a first pass, and this notebook tracks the process, assumptions, and outstanding questions."
   ]
  },
  {
   "cell_type": "code",
   "execution_count": 7,
   "metadata": {
    "collapsed": false
   },
   "outputs": [],
   "source": [
    "#style up the notebook\n",
    "#from IPython.core.display import HTML\n",
    "#css_file = 'assets/css/notebook-style.css'\n",
    "#HTML(open(css_file, \"r\").read())"
   ]
  },
  {
   "cell_type": "code",
   "execution_count": 6,
   "metadata": {
    "collapsed": false
   },
   "outputs": [],
   "source": [
    "import pandas as pd\n",
    "import numpy as np\n",
    "pd.options.mode.chained_assignment = None\n",
    "pd.set_option('expand_frame_repr', True)\n",
    "award_string = 'SBAHQ-'"
   ]
  },
  {
   "cell_type": "markdown",
   "metadata": {},
   "source": [
    "## Find Files and Columns\n",
    "Using a sample award id string, look through JAAMS and Prism files to see which ones contain award ids.\n",
    "For files that contain award id data, find out which column(s) the award id is in."
   ]
  },
  {
   "cell_type": "code",
   "execution_count": 562,
   "metadata": {
    "collapsed": false
   },
   "outputs": [],
   "source": [
    "#assuming that award ids for this data subset are start with 'SBAHQ-', \n",
    "#find the JAAMS and Prism tables that contain award is somewhere\n",
    "#in their data\n",
    "awards_files = !grep --include=\\*.txt -rnl -e 'SBAHQ-'  data\n",
    "jaams_awards_files = [f.split('\\n')[0] for f in awards_files if f.find('jaams') > -1]\n",
    "prism_awards_files = [f.split('\\n')[0] for f in awards_files if f.find('prism') > -1]\n",
    "prism = {}\n",
    "#raw prism files aren't quoted, so many lines won't parse (skip them for now)\n",
    "for file in prism_awards_files:\n",
    "    key = file.split('/')[-1][:-4].lower()\n",
    "    prism[key] = pd.read_csv(file, error_bad_lines = False, warn_bad_lines = False)\n",
    "    prism[key].rename(columns=lambda x: '{}.'.format(key) + x.lower(), inplace = True)\n",
    "prism_csv = pd.read_csv('data/data_act_prism_grants_fy14.csv')\n",
    "jaams = {}\n",
    "for file in jaams_awards_files:\n",
    "    key = file.split('/')[-1][:-4].lower()\n",
    "    jaams[key] = pd.read_csv(file, index_col = False)\n",
    "    jaams[key].rename(columns=lambda x: '{}.'.format(key) + x.lower(), inplace = True)"
   ]
  },
  {
   "cell_type": "markdown",
   "metadata": {},
   "source": [
    "### JAAMS"
   ]
  },
  {
   "cell_type": "code",
   "execution_count": 563,
   "metadata": {
    "collapsed": false
   },
   "outputs": [
    {
     "name": "stdout",
     "output_type": "stream",
     "text": [
      "looking for JAAMS colums that have an award id\n",
      "\n",
      "po_requisition_headers_all: po_requisition_headers_all.attribute2\n",
      "po_lines_all: po_lines_all.attribute1\n",
      "ap_invoices_all: ap_invoices_all.invoice_num\n",
      "ap_invoices_all: ap_invoices_all.attribute11\n",
      "po_headers_all: po_headers_all.segment1\n",
      "ap_invoice_distributions_all: ap_invoice_distributions_all.attribute3\n"
     ]
    }
   ],
   "source": [
    "print 'looking for JAAMS colums that have an award id\\n'\n",
    "for k, df in jaams.iteritems():\n",
    "    for col in df:\n",
    "        if df[col].to_string().find(award_string) >= 0:\n",
    "            print ('{}: {}'.format(k, col))"
   ]
  },
  {
   "cell_type": "markdown",
   "metadata": {},
   "source": [
    "### Prism"
   ]
  },
  {
   "cell_type": "code",
   "execution_count": 564,
   "metadata": {
    "collapsed": false,
    "scrolled": true
   },
   "outputs": [
    {
     "name": "stdout",
     "output_type": "stream",
     "text": [
      "looking for Prism colums that have an award id\n",
      "\n",
      "header: header.docnum\n",
      "grantheader: grantheader.sba1222progcode\n",
      "grantheader: grantheader.sba1222budgetcode\n",
      "grantheader: grantheader.sba1222documentno\n",
      "faadsciv: faadsciv.docnum\n",
      "prism csv: Grant Number\n",
      "prism csv: Award ID\n",
      "prism csv: Unique Identifer\n"
     ]
    }
   ],
   "source": [
    "print 'looking for Prism colums that have an award id\\n'\n",
    "for k, df in prism.iteritems():\n",
    "    for col in df:\n",
    "        if df[col].to_string().find(award_string) >= 0:\n",
    "            print ('{}: {}'.format(k, col))\n",
    "for col in prism_csv:\n",
    "    if prism_csv[col].to_string().find(award_string) >= 0:\n",
    "        print ('prism csv: {}'.format(col))"
   ]
  },
  {
   "cell_type": "markdown",
   "metadata": {},
   "source": [
    "## Joining JAAMS and Prism\n",
    "\n",
    "This work hinges on the ability to match SBA's financial system (JAAMS) and its grants system (Prism). The starting point was award id identified in the mapping document: JAAMS PO_HEADERS_ALL.SEGMENT1. We matched that to the Prism HEADER.DOCNUM.\n",
    "\n",
    "This process yielded only a single matching award id between JAAMS and Prism, but we believe that's due to mis-matched fiscal years (see the questions below).\n",
    "\n",
    "Once JAAMS and Prism were joined, we built out from there, pulling in other financial and grants tables using the provided files and SQL join statements.\n",
    "\n",
    "The image below is a rough sketch of how we joined the tables to gather the required DATA Act information.\n",
    "\n",
    "![SBA DATA Act Mappings](assets/images/jaams-prism-data-act-mapping.png)"
   ]
  },
  {
   "cell_type": "markdown",
   "metadata": {},
   "source": [
    "## Assumptions, Questions and Missing Data\n",
    "\n",
    "1. When matching JAAMS PO_HEADERS_ALL to Prism headers, how should the header.vernum be handled? What does it represent? Should we only be taking one vernum per docnum?\n",
    "1. What does it mean when there are multiple records in PO_HEADERS_ALL with the same PO_HEADER_ID (the other data looks the same too)? For example, there are 9 records with a PO_HEADER_ID = 351260.\n",
    "1. Missing Prism **faadsciv.census_code** (place of performance city). Used _countycityname_ column instead.\n",
    "2. Missing Prism **docaddr** table (for awarding office name). Hard-coded _Office of Grants Management_, since that's the correct office for the one award we're tracking in this sprint.\n",
    "3. Missing JAAMS **find_flex_values_vl** table (for funding offfice code). Hard-coded **`60200`**, since that's the correct funding office code for the one award we're tracking in this sprint.\n",
    "4. Missing Prism **Vendor2** table (for recipient type). Hard-coded _12 Other Nonprofit_, since that's the correct type for the one award we're tracking in this sprint.\n",
    "5. Why are **unobligated amount** and **amount of other budgetary resources** marked as NA in the mapping document?\n",
    "6. Is there any more information available about **Type of Action** (it's marked as a computed column in the mapping document)?\n",
    "7. Why are **awardee/recipient parent DUNS Number** and **awarding/recipient parent legal business name** marked as NA in the mapping document?\n",
    "8. Why are **awardee/recipient country name and congressional district** marked as NA in the mapping document?\n",
    "9. The mapping doc doesn't specify a mapping for **CFDA program number/title**. This code uses the following Prism fields:\n",
    "    * faadsciv.programnumber\n",
    "    * faadsciv.programtitle\n",
    "10. The version of the mapping doc we're using says that TAS info isn't current in use (and that GTAS will be implemented soon). A prior version of the doc maps TAS to **Prism itemacct.TAS#**. For this sprint, we hard-coded the TAS that corresponds to the single award we matched. Going forward, should we look for TAS in itemacct until GTAS is implemented?\n",
    "11. The mapping doc doesn't specify a mapping for **Place of Performance County Name** and **Place of Performance County Code**. For this sprint, we used the following Prism fields:\n",
    "    * grantheader.sba1222countyname\n",
    "    * grantheader.sba1222countycode\n",
    "12. Why are **period of performance potential end date** and **ordering period end date** marked as NA in the mapping doc?\n",
    "13. We might has mis-matched years in JAAMS and Prism. The Prism sql (data/prism/joins.txt) is grabbing records with a status date between 10/10/2014 and 10/1/2015 (i.e., FY 2015). Not sure if that's the code used to generate our sample data, but mismatched fiscal years could explain why we only matched a single award.\n",
    "14. The mapping doc contains mapping information for county name and code (grantheader.sba1222countyname and grantheader.sba1222countycode), but we're not sure where/how those map to the DATA Act schema.\n",
    "15. We need some clarification for awardee/recipient address.  \n",
    "    * Will SAM be the authoritative source? The current mapping doc shows SAM for addressline1, but then maps it to a Prism table (VENADDRESS.ADDRESS1). The rest of the address fields are mapped to JAAMS (AP_SUPPLIER_SITES)  \n",
    "    * The mapping doc specifies JAAMS table AP_SUPPLIER_SITES, but our data only has a table called AP_SUPPLIER_SITES_ALL. We used this--is that correct?\n",
    "    * If we should, in fact, be getting address info from AP_SUPPLIER_SITES_ALL: Wwhen there are multiplier SUPPLIER_SITES records for a single vendor, which one should we use to get the address info?\n",
    "16. Several DATA Act elements are mapped to JAAMS PO_LINES_ALL.QUANTITY * PO_LINES_ALL.UNIT_PRICE. Is there any additional nuance we should know about?  \n",
    "    * funding action obligation\n",
    "    * non-federal funding amount\n",
    "    * current total funding obligation amount on award\n",
    "    * current total value of award\n",
    "    * potential total value of award\n"
   ]
  },
  {
   "cell_type": "markdown",
   "metadata": {},
   "source": [
    "## JAAMS PO_HEADERS_ALL to Prism Header.docnum\n",
    "\n",
    "This matches 18 records between JAAMS and Prism (a single award id: SBAHQ-14-S-0001)"
   ]
  },
  {
   "cell_type": "code",
   "execution_count": 565,
   "metadata": {
    "collapsed": false,
    "scrolled": true
   },
   "outputs": [
    {
     "name": "stdout",
     "output_type": "stream",
     "text": [
      "Number of po_headers_all records matched to prism header: 18\n",
      "Award ids matched: ['SBAHQ-14-S-0001']\n"
     ]
    }
   ],
   "source": [
    "header = prism['header']\n",
    "#clean up header data\n",
    "header = header.dropna(subset = ['header.docnum', 'header.dockey'])\n",
    "header['header.dockey'] = header['header.dockey'].astype(np.int64)\n",
    "header['header.verkey'] = header['header.verkey'].astype(np.int64)\n",
    "header['header.docnum_stripped'] = header['header.docnum'].replace('-', '', regex = True)\n",
    "\n",
    "po_headers_all = jaams['po_headers_all']\n",
    "po_headers_all['po_headers_all.segment1_stripped'] = po_headers_all['po_headers_all.segment1'].replace('-', '', regex = True)\n",
    "\n",
    "jp_merge = pd.merge(\n",
    "    po_headers_all,\n",
    "    header,\n",
    "    left_on = 'po_headers_all.segment1_stripped',\n",
    "    right_on = 'header.docnum_stripped'\n",
    ")\n",
    "print ('Number of po_headers_all records matched to prism header: {}'.format(len(jp_merge.index)))\n",
    "print ('Award ids matched: {}'.format(pd.unique(jp_merge['po_headers_all.segment1'].ravel())))"
   ]
  },
  {
   "cell_type": "markdown",
   "metadata": {},
   "source": [
    "## Merge in Other Required Data"
   ]
  },
  {
   "cell_type": "markdown",
   "metadata": {},
   "source": [
    "### GRANTHEADER (POP congressional district)\n",
    "\n",
    "Join columns = dockey, verkey  \n",
    "1:1?  \n",
    "via data/prism/joins.txt"
   ]
  },
  {
   "cell_type": "code",
   "execution_count": 566,
   "metadata": {
    "collapsed": false
   },
   "outputs": [
    {
     "data": {
      "text/plain": [
       "18"
      ]
     },
     "execution_count": 566,
     "metadata": {},
     "output_type": "execute_result"
    }
   ],
   "source": [
    "#a lot of mucking around to make sure first two columns aren't interpreted as the DataFrame\n",
    "#index (due to the bad file formatting...missing quote)\n",
    "grantheader = pd.read_csv('data/prism/grantheader.txt', error_bad_lines = False, warn_bad_lines = False, header = None)\n",
    "headers = grantheader.ix[0]\n",
    "grantheader.columns = headers\n",
    "grantheader = grantheader[1:]\n",
    "grantheader.rename(columns = lambda x: 'grantheader.' + x.lower(), inplace = True)\n",
    "grantheader['grantheader.dockey'] = grantheader['grantheader.dockey'].astype(np.int64)\n",
    "grantheader['grantheader.verkey'] = grantheader['grantheader.verkey'].astype(np.int64)\n",
    "jp_merge = pd.merge(\n",
    "    jp_merge, grantheader,\n",
    "    left_on = ['header.dockey', 'header.verkey'],\n",
    "    right_on = ['grantheader.dockey', 'grantheader.verkey']\n",
    ")\n",
    "len(jp_merge.index)"
   ]
  },
  {
   "cell_type": "markdown",
   "metadata": {},
   "source": [
    "### Vendor (Prism)\n",
    "According to mapping doc, the first address line of the awardee/recipient comes from SAM. The remaining portions of the address are mapped to Prism table docvendor.\n",
    "\n",
    "Join columns = dockey, verkey     \n",
    "1:1?  \n",
    "via data/prism/joins.txt  "
   ]
  },
  {
   "cell_type": "code",
   "execution_count": 567,
   "metadata": {
    "collapsed": false
   },
   "outputs": [
    {
     "data": {
      "text/plain": [
       "18"
      ]
     },
     "execution_count": 567,
     "metadata": {},
     "output_type": "execute_result"
    }
   ],
   "source": [
    "docvendor = pd.read_csv(\n",
    "    'data/prism/docVendor.txt',\n",
    "    index_col = False,\n",
    "    error_bad_lines = False,\n",
    "    warn_bad_lines = False\n",
    ")\n",
    "docvendor.rename(columns = lambda x: 'docvendor.' + x.lower(), inplace = True)\n",
    "jp_merge = pd.merge(\n",
    "    jp_merge, docvendor,\n",
    "    left_on = ['header.dockey', 'header.verkey'],\n",
    "    right_on = ['docvendor.dockey', 'docvendor.verkey']\n",
    ")\n",
    "len(jp_merge.index)"
   ]
  },
  {
   "cell_type": "markdown",
   "metadata": {},
   "source": [
    "### JAAMS Vendor (awardee/recipient location)\n",
    "\n",
    "Join columns: vendor_id, vendor_site_id  \n",
    "1:1?  \n",
    "This join info wasn't explicitly stated in data/jaams/sql/basic table joins.sql. Just guessing here."
   ]
  },
  {
   "cell_type": "code",
   "execution_count": 568,
   "metadata": {
    "collapsed": false
   },
   "outputs": [
    {
     "data": {
      "text/plain": [
       "18"
      ]
     },
     "execution_count": 568,
     "metadata": {},
     "output_type": "execute_result"
    }
   ],
   "source": [
    "ap_supplier_sites_all = pd.read_csv('data/jaams/AP_SUPPLIER_SITES_ALL.txt')\n",
    "ap_supplier_sites_all.rename(columns = lambda x: 'ap_supplier_sites_all.' + x.lower(), inplace = True)\n",
    "jp_merge = pd.merge(\n",
    "    jp_merge, ap_supplier_sites_all,\n",
    "    left_on = ['po_headers_all.vendor_id', 'po_headers_all.vendor_site_id'],\n",
    "    right_on = ['ap_supplier_sites_all.vendor_id', 'ap_supplier_sites_all.vendor_site_id'] \n",
    ")\n",
    "len(jp_merge.index)"
   ]
  },
  {
   "cell_type": "markdown",
   "metadata": {},
   "source": [
    "### PO_LINES_ALL (for award amount info)\n",
    "\n",
    "Join columns = po_header_id  \n",
    "1:n  \n",
    "via data/jaams/sql/basic table joins.sql"
   ]
  },
  {
   "cell_type": "code",
   "execution_count": 569,
   "metadata": {
    "collapsed": false
   },
   "outputs": [
    {
     "data": {
      "text/plain": [
       "162"
      ]
     },
     "execution_count": 569,
     "metadata": {},
     "output_type": "execute_result"
    }
   ],
   "source": [
    "po_lines_all = jaams['po_lines_all']\n",
    "jp_merge = pd.merge(\n",
    "    jp_merge, po_lines_all,\n",
    "    left_on = ['po_headers_all.po_header_id'],\n",
    "    right_on = ['po_lines_all.po_header_id']\n",
    ")\n",
    "len(jp_merge.index)"
   ]
  },
  {
   "cell_type": "markdown",
   "metadata": {},
   "source": [
    "### PO_DISTRIBUTIONS_ALL (for type of transaction)\n",
    "\n",
    "Join columns = po_header_id, po_line_id  \n",
    "1:1 (i.e., in this sample data, at least, there was not more than one po distribution per po line)  \n",
    "via data/jaams/sql/basic table joins.sql"
   ]
  },
  {
   "cell_type": "code",
   "execution_count": 570,
   "metadata": {
    "collapsed": false
   },
   "outputs": [
    {
     "data": {
      "text/plain": [
       "162"
      ]
     },
     "execution_count": 570,
     "metadata": {},
     "output_type": "execute_result"
    }
   ],
   "source": [
    "po_distributions_all = pd.read_csv('data/jaams/PO_DISTRIBUTIONS_ALL.txt')\n",
    "po_distributions_all.rename(columns = lambda x: 'po_distributions_all.' + x.lower(), inplace = True)\n",
    "jp_merge = pd.merge(\n",
    "    jp_merge, po_distributions_all,\n",
    "    left_on = ['po_lines_all.po_header_id', 'po_lines_all.po_line_id'],\n",
    "    right_on = ['po_distributions_all.po_header_id', 'po_distributions_all.po_line_id']\n",
    ")\n",
    "len(jp_merge.index)"
   ]
  },
  {
   "cell_type": "markdown",
   "metadata": {},
   "source": [
    "### GL_CODE_COMBINATIONS (funding office, object class, appropriations account)\n",
    "\n",
    "Join columns = code_combination_id  \n",
    "1:1 (i.e., in this sample data, there was one gl_code_combination per po_line)  \n",
    "via data/jaams/sql/basic table joins.sql"
   ]
  },
  {
   "cell_type": "code",
   "execution_count": 571,
   "metadata": {
    "collapsed": false
   },
   "outputs": [
    {
     "data": {
      "text/plain": [
       "162"
      ]
     },
     "execution_count": 571,
     "metadata": {},
     "output_type": "execute_result"
    }
   ],
   "source": [
    "gl_code_combinations = pd.read_csv('data/jaams/GL_CODE_COMBINATIONS.txt')\n",
    "gl_code_combinations.rename(columns = lambda x: 'gl_code_combinations.' + x.lower(), inplace = True)\n",
    "jp_merge = pd.merge(\n",
    "    jp_merge, gl_code_combinations,\n",
    "    left_on = ['po_distributions_all.code_combination_id'],\n",
    "    right_on = ['gl_code_combinations.code_combination_id']\n",
    ")\n",
    "len(jp_merge.index)"
   ]
  },
  {
   "cell_type": "markdown",
   "metadata": {},
   "source": [
    "### FAADSCIV (record type, place of performance info)\n",
    "\n",
    "faadsciv joins to the header table by using a crosswalk (called Association).  \n",
    "See data/prism/joins.txt for more information  \n",
    "1:1  "
   ]
  },
  {
   "cell_type": "code",
   "execution_count": 572,
   "metadata": {
    "collapsed": false,
    "scrolled": true
   },
   "outputs": [
    {
     "data": {
      "text/plain": [
       "162"
      ]
     },
     "execution_count": 572,
     "metadata": {},
     "output_type": "execute_result"
    }
   ],
   "source": [
    "#first merge in Association so we can map faadsciv back to header\n",
    "association = pd.read_csv('data/prism/Association.txt')\n",
    "association.rename(columns = lambda x: 'association.' + x.lower(), inplace = True)\n",
    "jp_merge = pd.merge(\n",
    "    jp_merge, association,\n",
    "    left_on = ['header.dockey', 'header.verkey'],\n",
    "    right_on = ['association.dockey', 'association.verkey']\n",
    ")\n",
    "#then use Association as the crosswalk\n",
    "faadsciv = pd.read_csv('data/prism/faadsciv.csv')\n",
    "faadsciv.rename(columns = lambda x: 'faadsciv.' + x.lower(), inplace = True)\n",
    "jp_merge = pd.merge(\n",
    "    jp_merge, faadsciv,\n",
    "    left_on = ['association.assocdockey', 'association.assocverkey'],\n",
    "    right_on = ['faadsciv.dockey', 'faadsciv.verkey']\n",
    ")\n",
    "len(jp_merge.index)"
   ]
  },
  {
   "cell_type": "markdown",
   "metadata": {},
   "source": [
    "### Prism: Docaddr (awarding office name)\n",
    "\n",
    "Join columns: header.issuingdocaddresskey = docaddr.docaddrkey  \n",
    "1:?  \n",
    "via data/prism/joins.txt\n",
    "\n",
    "#### Docaddr is missing, so hard-coding it based on the provided file: data_act_prism_grants_fy14.csv"
   ]
  },
  {
   "cell_type": "code",
   "execution_count": 573,
   "metadata": {
    "collapsed": true
   },
   "outputs": [],
   "source": [
    "jp_merge['docaddr.name'] = 'Office of Grants Management'"
   ]
  },
  {
   "cell_type": "markdown",
   "metadata": {},
   "source": [
    "### Prism: Vendor2 (recipient type)\n",
    "\n",
    "Join columns: ??  \n",
    "1:??  \n",
    "data/prism/joins.txt does not include Vendor2\n",
    "\n",
    "#### Vendor2 is missing, so hard-coding it based on the provided file: data_act_prism_grants_fy14.csv"
   ]
  },
  {
   "cell_type": "code",
   "execution_count": 574,
   "metadata": {
    "collapsed": true
   },
   "outputs": [],
   "source": [
    "jp_merge['vendor2.businesstype'] = 'Other nonprofit'"
   ]
  },
  {
   "cell_type": "markdown",
   "metadata": {},
   "source": [
    "### JAAMS: FIND_FLEX_VALUES_VL (funding office code)\n",
    "\n",
    "Join columns: ??  \n",
    "1:??  \n",
    "data/jaams/sql/basic table joins.sql does not include find_flex_values_vl\n",
    "\n",
    "#### FIND_FLEX_VALUES_VL is missing, so hard-coding based on provided file: data_act_prism_grants_fy14.csv"
   ]
  },
  {
   "cell_type": "code",
   "execution_count": 575,
   "metadata": {
    "collapsed": false
   },
   "outputs": [],
   "source": [
    "jp_merge['find_flex_values_vl'] = '602001'"
   ]
  },
  {
   "cell_type": "markdown",
   "metadata": {},
   "source": [
    "## Add Calculated Fields and Various Hard-Coding"
   ]
  },
  {
   "cell_type": "code",
   "execution_count": 576,
   "metadata": {
    "collapsed": false
   },
   "outputs": [],
   "source": [
    "jp_merge['po_lines_all.total_amount'] = jp_merge['po_lines_all.quantity'] * jp_merge['po_lines_all.unit_price']\n",
    "jp_merge['funding_agency_name'] = 'Small Business Administration'\n",
    "jp_merge['funding_agency_code'] = '073'\n",
    "jp_merge['funding_sub_tier_agency_name'] = 'Small Business Administration'\n",
    "jp_merge['funding_sub_tier_agency_code'] = '073'\n",
    "jp_merge['awarding_agency_name'] = 'Small Business Administration'\n",
    "jp_merge['awarding_agency_code'] = '073'\n",
    "jp_merge['awarding_sub_tier_agency_name'] = 'Small Business Administration'\n",
    "jp_merge['awarding_sub_tier_agency_code'] = '073'\n",
    "jp_merge['federal_agency'] = 'Small Business Administration'\n",
    "jp_merge['tas'] = '730100' #this is what was listed in itemacct.tas#"
   ]
  },
  {
   "cell_type": "markdown",
   "metadata": {},
   "source": [
    "## Reduce the Huge Merged File to DATA Act Elements"
   ]
  },
  {
   "cell_type": "code",
   "execution_count": 577,
   "metadata": {
    "collapsed": false
   },
   "outputs": [],
   "source": [
    "#jp_merge = jp_merge.drop_duplicates()\n",
    "data_act = jp_merge[[\n",
    "    'po_lines_all.item_description', #award description\n",
    "    'po_headers_all.segment1', #award id\n",
    "    'header.issuingdocaddresskey', #awarding office code\n",
    "    'header.awarddate', #action date\n",
    "    'docvendor.name', #Recipient name\n",
    "    'po_distributions_all.attribute10', #period of performance start date\n",
    "    'po_distributions_all.attribute11', #period of performance end date\n",
    "    'docvendor.duns', #awardee/recipient legal business DUNS\n",
    "    'docvendor.dunsplus4', #awardee/recipient legal business DUNS+4\n",
    "    'docvendor.address1', #awardee/recipient legal business street address line 1\n",
    "    'ap_supplier_sites_all.address_line1', #just including this in to see if it matches address above\n",
    "    'ap_supplier_sites_all.address_line2', #awardee/recipient legal business street address line 2\n",
    "    'ap_supplier_sites_all.address_line3', #awardee/recipient legal business street address line 3\n",
    "    'ap_supplier_sites_all.city', #awardee/recipient legal business city\n",
    "    'ap_supplier_sites_all.state', #awardee/recipient state\n",
    "    'ap_supplier_sites_all.zip', #awardee/recipient us zip code + 4; awardee/recipient postal code\n",
    "    'grantheader.sba1222countyname', #recipient county name\n",
    "    'grantheader.sba1222countycode', #recipient county code\n",
    "    'po_lines_all.quantity',\n",
    "    'po_lines_all.unit_price',\n",
    "    'po_lines_all.total_amount', #funding action obligation (does not account for cancellations etc.)\n",
    "    'funding_agency_name', #funding agency name\n",
    "    'funding_agency_code', #funding agency code\n",
    "    'funding_sub_tier_agency_name', #funding sub-tier agency name\n",
    "    'funding_sub_tier_agency_code', #funding sub-tier agency code\n",
    "    'po_distributions_all.attribute_category', #type of award code\n",
    "    'header.obligatedamt', #amount of ba appropriated; obligation\n",
    "    'po_distributions_all.quantity_billed', #outlay\n",
    "    'gl_code_combinations.segment3', #funding office name\n",
    "    'gl_code_combinations.segment5', #object class woo!\n",
    "    'gl_code_combinations.code_combination_id', #appropriations account\n",
    "    'gl_code_combinations.segment4', #program activity\n",
    "    'grantheader.sba1222congdistno', #place of performance congressional district\n",
    "    'faadsciv.recordtype', #record type\n",
    "    'faadsciv.countycityname', #primary place of performance city code (note: there was no census_code columns)\n",
    "    'faadsciv.principalstatecode', #primary place of performance state code\n",
    "    'faadsciv.principalstatename', #primary place of performance state name\n",
    "    'faadsciv.placeofperfzip', #primary place of performance zip code + 4\n",
    "    'faadsciv.placeofperfcountrycode', #primary location of performance country code\n",
    "    'faadsciv.placeofperfcountryname', #primary location of performance country name\n",
    "    'faadsciv.cfdaprogramnumber', #cfda program number\n",
    "    'faadsciv.cfdaprogramtitle', #cfda program title\n",
    "    'docaddr.name', #awarding office name\n",
    "    'vendor2.businesstype', #recipient type\n",
    "    'funding_agency_name',\n",
    "    'funding_agency_code',\n",
    "    'funding_sub_tier_agency_name',\n",
    "    'funding_sub_tier_agency_code',\n",
    "    'awarding_agency_name',\n",
    "    'awarding_agency_code',\n",
    "    'awarding_sub_tier_agency_name',\n",
    "    'awarding_sub_tier_agency_code',\n",
    "    'federal_agency'\n",
    "    ]]\n",
    "\n",
    "#write out the data act file\n",
    "data_act.to_csv('data/data_act.csv', index = False)\n",
    "#also write out the entire merged file, so we can look for interesting things\n",
    "jp_merge.to_csv('data/jp_merge.csv', index = False)"
   ]
  }
 ],
 "metadata": {
  "kernelspec": {
   "display_name": "Python 2",
   "language": "python",
   "name": "python2"
  },
  "language_info": {
   "codemirror_mode": {
    "name": "ipython",
    "version": 2
   },
   "file_extension": ".py",
   "mimetype": "text/x-python",
   "name": "python",
   "nbconvert_exporter": "python",
   "pygments_lexer": "ipython2",
   "version": "2.7.9"
  }
 },
 "nbformat": 4,
 "nbformat_minor": 0
}
