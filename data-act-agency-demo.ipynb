{
 "cells": [
  {
   "cell_type": "code",
   "execution_count": 42,
   "metadata": {
    "collapsed": false
   },
   "outputs": [
    {
     "data": {
      "text/html": [
       "<style>\n",
       ".rendered_html {\n",
       "font-size: 150%;\n",
       "line-height: 1.3;\n",
       "}\n",
       "\n",
       ".rendered_html li {\n",
       "line-height: 2;\n",
       "}\n",
       "\n",
       ".rendered_html h1{\n",
       "margin: 0.5em 0;\n",
       "line-height: 1.3;\n",
       "}\n",
       "\n",
       ".rendered_html h2{\n",
       "margin: 0.15em 0;\n",
       "line-height: 1.2;\n",
       "}\n",
       "\n",
       ".input_prompt {\n",
       "font-size: 120%;\n",
       "font-family: Consolas;\n",
       "}\n",
       "\n",
       ".CodeMirror-lines {\n",
       "font-size: 120%;\n",
       "font-family: Consolas;\n",
       "}\n",
       "\n",
       ".output_area {\n",
       "font-size: 120%;\n",
       "font-family: Consolas;\n",
       "}</''>\n",
       "\n",
       ".rendered_html table, .rendered_html th, .rendered_html tr, .rendered_html td {\n",
       "  border: 1px  #4f5b66 solid;\n",
       "  white-space: nowrap;\n",
       "}\n",
       ".rendered_html thead {\n",
       "  background-color: #65737e;\n",
       "}\n",
       ".rendered_html th {font-weight: normal;}\n",
       "table.dataframe tr {\n",
       "  border: 1px #4f5b66;\n",
       "  font-size: 50%;\n",
       "}\n",
       "\n",
       "/* remove big margins around title */\n",
       "div.text_cell_render.border-box-sizing.rendered_html {\n",
       "    margin: 0;\n",
       "    padding: 0;\n",
       "    margin-left: 1ex;\n",
       "}\n",
       "div.cell.text_cell.border-box-sizing {\n",
       "    margin: 0;\n",
       "    padding: 0;\n",
       "}\n",
       ".rendered_html h1 {\n",
       "    margin: 0;\n",
       "    padding: 0;\n",
       "}\n",
       ".rendered_html h2 {\n",
       "    margin: 0;\n",
       "    padding: 0;\n",
       "}\n",
       ".rendered_html h3 {\n",
       "    margin: 0;\n",
       "    padding: 0;\n",
       "}\n",
       "\n",
       "div.prompt { /* remove In/Out prompt */\n",
       "    display: none;\n",
       "}\n",
       "\n",
       "div.output_subarea { /* remove margin in front of output */\n",
       "    border: none;\n",
       "}\n",
       "</style>\n"
      ],
      "text/plain": [
       "<IPython.core.display.HTML object>"
      ]
     },
     "execution_count": 42,
     "metadata": {},
     "output_type": "execute_result"
    }
   ],
   "source": [
    "import pandas as pd\n",
    "\n",
    "%matplotlib inline\n",
    "from IPython.core.display import HTML\n",
    "styles = open(\"assets/css/notebook-talk-style.css\", \"r\").read()\n",
    "HTML(styles)"
   ]
  },
  {
   "cell_type": "markdown",
   "metadata": {},
   "source": [
    "# DATA Act Agency Pilot Demo"
   ]
  },
  {
   "cell_type": "markdown",
   "metadata": {},
   "source": [
    "![pilot flow](updated-validation-flow.png)"
   ]
  },
  {
   "cell_type": "markdown",
   "metadata": {},
   "source": [
    "## Map SBA Data to DATA Act schema \n",
    "\n",
    "![SBA mapping](assets/images/sba-mapping.png)"
   ]
  },
  {
   "cell_type": "markdown",
   "metadata": {},
   "source": [
    "## Join Award and Financial Data"
   ]
  },
  {
   "cell_type": "code",
   "execution_count": null,
   "metadata": {
    "collapsed": false
   },
   "outputs": [],
   "source": [
    "!python processors/process_source.py -o data/data_act.csv"
   ]
  },
  {
   "cell_type": "markdown",
   "metadata": {},
   "source": [
    "## Match Joined Awards/Financial Data to Schema"
   ]
  },
  {
   "cell_type": "code",
   "execution_count": null,
   "metadata": {
    "collapsed": false
   },
   "outputs": [],
   "source": [
    "!python processors/process_sba.py -i data/data_act.csv -o data/output_sba_pb"
   ]
  },
  {
   "cell_type": "markdown",
   "metadata": {},
   "source": [
    "### Sample Output:"
   ]
  },
  {
   "cell_type": "code",
   "execution_count": null,
   "metadata": {
    "collapsed": false
   },
   "outputs": [],
   "source": [
    "!head -25 data/output_sba_pb_demo"
   ]
  },
  {
   "cell_type": "markdown",
   "metadata": {},
   "source": [
    "## Run the Validator\n",
    "For this project, the validator checks a handful of simple business rules to demonstrate the process. A full listing of the business rules and validations we're capturing are [here](https://github.com/18F/intercessor/blob/master/sba-business-rules.md)."
   ]
  },
  {
   "cell_type": "code",
   "execution_count": null,
   "metadata": {
    "collapsed": false
   },
   "outputs": [],
   "source": [
    "!python processors/validator.py -i data/output_sba_pb"
   ]
  },
  {
   "cell_type": "markdown",
   "metadata": {},
   "source": [
    "### Sneak Peak:\n",
    "\n",
    "All the caveats, etc."
   ]
  },
  {
   "cell_type": "code",
   "execution_count": null,
   "metadata": {
    "collapsed": false,
    "scrolled": true
   },
   "outputs": [],
   "source": [
    "da = pd.read_csv('data/data_act.csv')\n",
    "da = da.rename(columns = {\n",
    "        'itemacct.tas#': 'TAS',\n",
    "        'faadsciv.cfdaprogramtitle': 'CFDA Program',\n",
    "        'docvendor.name': 'Recipient Name',\n",
    "        'header.obligatedamt': 'Obligated Award Amt',\n",
    "        'gl_code_combinations.segment5': 'Object Class',\n",
    "        'po_distributions_all.quantity_billed' : 'Outlay'\n",
    "    })\n",
    "pd.pivot_table(\n",
    "        da,\n",
    "        index=['TAS', 'Object Class', 'CFDA Program', 'Recipient Name'],\n",
    "        values=['Obligated Award Amt'])"
   ]
  },
  {
   "cell_type": "markdown",
   "metadata": {},
   "source": [
    "## Links to Pilot Work:\n",
    "* https://github.com/18F/data-act-pilot\n",
    "* issues and research questions: https://github.com/18F/data-act-pilot/issues"
   ]
  }
 ],
 "metadata": {
  "kernelspec": {
   "display_name": "Python 2",
   "language": "python",
   "name": "python2"
  },
  "language_info": {
   "codemirror_mode": {
    "name": "ipython",
    "version": 2
   },
   "file_extension": ".py",
   "mimetype": "text/x-python",
   "name": "python",
   "nbconvert_exporter": "python",
   "pygments_lexer": "ipython2",
   "version": "2.7.9"
  }
 },
 "nbformat": 4,
 "nbformat_minor": 0
}
