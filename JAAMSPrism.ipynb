{
 "cells": [
  {
   "cell_type": "markdown",
   "metadata": {},
   "source": [
    "# SBA DATA Act Pilot: JAAMS + Prism\n",
    "\n",
    "This notebook has served its purpose and has been retired. We used it in the first sprint as a way to track the joins between JAAMS and Prism data.\n",
    "\n",
    "Now, however, it's easier to maintain the pilot code if the data joining process is a .py file instead of a Notebook. "
   ]
  }
 ],
 "metadata": {
  "kernelspec": {
   "display_name": "Python 2",
   "language": "python",
   "name": "python2"
  },
  "language_info": {
   "codemirror_mode": {
    "name": "ipython",
    "version": 2
   },
   "file_extension": ".py",
   "mimetype": "text/x-python",
   "name": "python",
   "nbconvert_exporter": "python",
   "pygments_lexer": "ipython2",
   "version": "2.7.9"
  }
 },
 "nbformat": 4,
 "nbformat_minor": 0
}
