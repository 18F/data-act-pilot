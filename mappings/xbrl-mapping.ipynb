{
 "cells": [
  {
   "cell_type": "markdown",
   "metadata": {},
   "source": [
    "# Mapping Pilot Files to Draft DATA Act Standard\n",
    "\n",
    "This is an exercise of mapping data elements from the [pilot's input files](https://github.com/18F/data-act-pilot/tree/master/schema) to the [draft DATA Act Standard](http://fedspendingtransparency.github.io/data-exchange-standard/).\n",
    "\n",
    "1. Get a list of data elements from the XML draft data act standard (i.e., a series of .xsd files)\n",
    "2. For each of the four input files used in this pilot, match the column names to their XML counterparts\n",
    "3. Output the mappings (and show which pilot data elements don't map to the XML version\n",
    "\n",
    "## Setup\n",
    "\n",
    "For this notebook to work, you will need:\n",
    "\n",
    "### Schema File\n",
    "The \"palette\" DATA Act schema .xsd file that includes financial, awards, and assistance awards information. This file is included in the [_Schema instance (XML version)_ download](http://fedspendingtransparency.github.io/assets/docs/DATA_Act_Schema_v0.5.zip) and is named _plt/case-finassist-ussglfin/da-palette-finassist-ussglfin-2015-06-29.xsd_\n",
    "\n",
    "**Note**: The repo contains a copy of the .xsd files in schema/xbrl, but this will have to be updated when a new draft of the standard is released.\n",
    "\n",
    "### generateDS Python Package\n",
    "The [generateDS Python package](http://pythonhosted.org/generateDS/) generates Python class definitions for XML schema docs. For this exercise, we don't really need the class because we're not parsing data. However, there's some handy code in generated class that provides a list of data elements in the .xsd. We use this shortcut to get a list of the XBRL elements so we can compare them to the pilot input files.\n",
    "\n",
    "**Note**: So far, research into open source ecosystem for open source XML schema/XBRL tools shows that it's pretty weak and outdated. \n",
    "\n",
    "For example, installing generateDS using pip (either PyPi or Bitbucket) doesn't actually run setup.py. Here is an annoying series of steps I used to install it.\n",
    "1. download the project .tar\n",
    "1. unzip .tar into your virtualenv's site-packages folder\n",
    "1. from your virtualenv's site-packages folder:\n",
    "    * ```cd generateDS-2.17a0```\n",
    "    * ```python setup.py build```\n",
    "    * ```python setup.py install```"
   ]
  },
  {
   "cell_type": "markdown",
   "metadata": {},
   "source": [
    "### Read the financial assistance/ussglfin palette and create Python object\n",
    "\n",
    "This command sends the DATA Act fiancial-award-finassist-award .xsd to generateDS and outputs _finassist_ussglfin.py_ (Python class definitions based on the .xsd). Change the command to reflect the location of generateDS.py on your system."
   ]
  },
  {
   "cell_type": "code",
   "execution_count": null,
   "metadata": {
    "collapsed": false
   },
   "outputs": [],
   "source": [
    "!python ~/Dev/.virtualenvs/intercessor/lib/python2.7/site-packages/generateDS-2.17a0/generateDS.py -o finassist_ussglfin.py -s finassist_ussglfin_sub.py -f --no-dates --no-versions --member-specs=list ../schema/xbrl/plt/case-finassist-ussglfin/da-palette-finassist-ussglfin-2015-06-29.xsd"
   ]
  },
  {
   "cell_type": "markdown",
   "metadata": {},
   "source": [
    "### Use resulting Python object to grab financial assistance/financial XBRL element names\n",
    "\n",
    "Use _finassist_ussglfin_ (generated in the previous step) to get a list of the XML data element names. Put them in a Pandas dataframe."
   ]
  },
  {
   "cell_type": "code",
   "execution_count": null,
   "metadata": {
    "collapsed": false
   },
   "outputs": [],
   "source": [
    "import pandas as pd\n",
    "import finassist_ussglfin\n",
    "mapper = finassist_ussglfin\n",
    "\n",
    "elementDict = mapper.GDSClassesMapping\n",
    "xbrl_elements = pd.DataFrame(list(elementDict.keys()))\n",
    "xbrl_elements = xbrl_elements.rename(columns = {0:'element_xbrl'})\n",
    "xbrl_elements['element_lower'] = xbrl_elements['element_xbrl'].str.lower()\n",
    "xbrl_elements.to_csv('xbrl_elements.csv', index = False)\n",
    "xbrl_elements"
   ]
  },
  {
   "cell_type": "markdown",
   "metadata": {},
   "source": [
    "### Fix un-matched names\n",
    "\n",
    "The first iterations revealed some element names in the pilot files that don't exactly match their XML counterparts. Eventually, another draft of the data standard will reflect the canonical element names. For now, create a crosswalk dictionary we can use for the mapping."
   ]
  },
  {
   "cell_type": "code",
   "execution_count": null,
   "metadata": {
    "collapsed": false
   },
   "outputs": [],
   "source": [
    "xbrl_elements['element_original'] = xbrl_elements['element_lower']\n",
    "updated_element_names = {\n",
    "    'budgetAuthorityAppropriated' : 'budgetauthorityappropriatedamount',\n",
    "    'mainAccountNumber' : 'mainaccountcode',\n",
    "    'otherBudgetaryResources' : 'otherbudgetaryresourcesamount',\n",
    "    'outlays' : 'outlayamount',\n",
    "    'modificationAmendmentNumber' : 'awardmodamendmentnumber',\n",
    "    'parentAwardID' : 'parentawardnumber',\n",
    "    #'typeOfAction' : 'reasonformodification',\n",
    "    'periodOfPerformanceActionDate' : 'ActionDateDay',\n",
    "    #'periodOfPerformanceActionDate': 'ActionDateMonth',\n",
    "    #'periodOfPerformanceActionDate' : 'ActionDateYear',\n",
    "    'typeOfTransactionCode' : 'assistancetype',\n",
    "    'totalFundingAmount' : 'currenttotalfundingobligationamount',\n",
    "    'awardingAgency' : 'awardingagencyname',\n",
    "    'awardingSubTierAgency' : 'awardingsubtieragencyname',\n",
    "    'catalogOfFederalDomesticAssistanceTitle' : 'cfda_description',\n",
    "    'catalogOfFederalDomesticAssistanceNumber' : 'cfda_code',\n",
    "    'periodOfPerformanceStartDate' : 'periodofperfstartday',\n",
    "    'periodOfPerformanceCurrentEndDate' : 'periodofperfcurrentendday',\n",
    "    'periodOfPerformancePotentialEndDate' : 'periodofperfpotentialendday',\n",
    "    'primaryPlaceOfPerformance' : 'placeofperfcity',\n",
    "    'awardeeUniqueIdentifier' : 'recipientdunsnumber',\n",
    "    'awardeeAddress' : 'recipientlegalentityaddressstreet1',\n",
    "    'awardeeLegalBusinessName' : 'recipientlegalentityname',\n",
    "    'highlyCompensatedOfficer' : 'HighCompOfficer1FirstName',\n",
    "    #'ultimateParentUniqueIdentifier' : 'parentawardnumber'\n",
    "}\n",
    "for key in updated_element_names:\n",
    "    #print '{} {}'.format(key,updated_element_names[key])\n",
    "    xbrl_elements['element_lower'][(xbrl_elements['element_xbrl'] == key)] = updated_element_names[key]\n",
    "xbrl_elements\n"
   ]
  },
  {
   "cell_type": "markdown",
   "metadata": {},
   "source": [
    "### For each of the four csvs, match element names to XML counterpart"
   ]
  },
  {
   "cell_type": "code",
   "execution_count": null,
   "metadata": {
    "collapsed": false
   },
   "outputs": [],
   "source": [
    "#appropriations\n",
    "approp = pd.read_csv('../schema/appropriation.csv')\n",
    "approp_elements = approp[['elementMappingName']]\n",
    "approp_elements = approp_elements.rename(columns = {'elementMappingName':'element'})\n",
    "approp_elements['element_lower'] = approp_elements['element'].str.lower()\n",
    "xbrl_mapping_approp = pd.merge(approp_elements, xbrl_elements, how='left')\n",
    "xbrl_mapping_approp = xbrl_mapping_approp.fillna({'element_xbrl': ''})\n",
    "xbrl_mapping_approp[['element', 'element_xbrl']]"
   ]
  },
  {
   "cell_type": "code",
   "execution_count": null,
   "metadata": {
    "collapsed": false
   },
   "outputs": [],
   "source": [
    "#appropriations/object class/program activity\n",
    "obj_class_pgm_activity = pd.read_csv('../schema/object_class_program_activity.csv')\n",
    "ocpa_elements = obj_class_pgm_activity[['elementMappingName']]\n",
    "ocpa_elements = ocpa_elements.rename(columns = {'elementMappingName':'element'})\n",
    "ocpa_elements['element_lower'] = ocpa_elements['element'].str.lower()\n",
    "xbrl_mapping_ocpa = pd.merge(ocpa_elements, xbrl_elements, how='left')\n",
    "xbrl_mapping_ocpa = xbrl_mapping_ocpa.fillna({'element_xbrl': ''})\n",
    "xbrl_mapping_ocpa[['element', 'element_xbrl']]"
   ]
  },
  {
   "cell_type": "code",
   "execution_count": null,
   "metadata": {
    "collapsed": false
   },
   "outputs": [],
   "source": [
    "#award financial\n",
    "award_financial = pd.read_csv('../schema/award_financial.csv')\n",
    "award_financial_elements = award_financial[['elementMappingName']]\n",
    "award_financial_elements = award_financial_elements.rename(columns = {'elementMappingName':'element'})\n",
    "award_financial_elements['element_lower'] = award_financial_elements['element'].str.lower()\n",
    "xbrl_mapping_award_financial = pd.merge(award_financial_elements, xbrl_elements, how='left')\n",
    "xbrl_mapping_award_financial = xbrl_mapping_award_financial.fillna({'element_xbrl': ''})\n",
    "xbrl_mapping_award_financial[['element', 'element_xbrl']]"
   ]
  },
  {
   "cell_type": "code",
   "execution_count": null,
   "metadata": {
    "collapsed": false,
    "scrolled": false
   },
   "outputs": [],
   "source": [
    "#award\n",
    "award = pd.read_csv('../schema/award.csv')\n",
    "award_elements = award[['elementMappingName']]\n",
    "award_elements = award_elements.rename(columns = {'elementMappingName':'element'})\n",
    "award_elements['element_lower'] = award_elements['element'].str.lower()\n",
    "xbrl_mapping_award = pd.merge(award_elements, xbrl_elements, how='left')\n",
    "xbrl_mapping_award = xbrl_mapping_award.fillna({'element_xbrl': ''})\n",
    "pd.set_option('display.max_rows', 1000)\n",
    "xbrl_mapping_award[['element', 'element_xbrl']]"
   ]
  },
  {
   "cell_type": "markdown",
   "metadata": {},
   "source": [
    "### Save mapping results"
   ]
  },
  {
   "cell_type": "code",
   "execution_count": null,
   "metadata": {
    "collapsed": true
   },
   "outputs": [],
   "source": [
    "xbrl_mapping_approp.to_csv('xbrl_mapping_approp.csv', index = False)\n",
    "xbrl_mapping_ocpa.to_csv('xbrl_mapping_ocpa.csv', index = False)\n",
    "xbrl_mapping_award_financial.to_csv('xbrl_mapping_award_financial.csv', index = False)\n",
    "xbrl_mapping_award.to_csv('xbrl_mapping_award.csv', index = False)"
   ]
  }
 ],
 "metadata": {
  "kernelspec": {
   "display_name": "Python 2",
   "language": "python",
   "name": "python2"
  },
  "language_info": {
   "codemirror_mode": {
    "name": "ipython",
    "version": 2
   },
   "file_extension": ".py",
   "mimetype": "text/x-python",
   "name": "python",
   "nbconvert_exporter": "python",
   "pygments_lexer": "ipython2",
   "version": "2.7.9"
  }
 },
 "nbformat": 4,
 "nbformat_minor": 0
}
