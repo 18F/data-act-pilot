{
 "cells": [
  {
   "cell_type": "markdown",
   "metadata": {},
   "source": [
    "# SBA DATA Act Pilot: JAAMS + Prism\n",
    "\n",
    "The code below uses the JAAMS and Prism test data supplied by SBA to create a single file that contains the required DATA Act elements. This is a first pass, and this notebook tracks the process, assumptions, and outstanding questions."
   ]
  },
  {
   "cell_type": "code",
   "execution_count": 351,
   "metadata": {
    "collapsed": false
   },
   "outputs": [],
   "source": [
    "#style up the notebook\n",
    "#from IPython.core.display import HTML\n",
    "#css_file = 'assets/css/notebook-style.css'\n",
    "#HTML(open(css_file, \"r\").read())"
   ]
  },
  {
   "cell_type": "code",
   "execution_count": 352,
   "metadata": {
    "collapsed": false
   },
   "outputs": [],
   "source": [
    "import pandas as pd\n",
    "import numpy as np\n",
    "import glob\n",
    "pd.options.mode.chained_assignment = None\n",
    "pd.set_option('expand_frame_repr', True)"
   ]
  },
  {
   "cell_type": "markdown",
   "metadata": {},
   "source": [
    "## Joining JAAMS and Prism\n",
    "\n",
    "This work hinges on the ability to match SBA's financial system (JAAMS) and its grants system (Prism). The starting point was award id identified in the mapping document: JAAMS PO_HEADERS_ALL.SEGMENT1. We matched that to the Prism HEADER.DOCNUM.\n",
    "\n",
    "Once JAAMS and Prism were joined, we built out from there, pulling in other financial and grants tables using the provided files and SQL join statements.\n",
    "\n",
    "The image shows how we joined the tables to gather the required DATA Act information.\n",
    "\n",
    "![SBA DATA Act Mappings](assets/images/jaams-prism-data-act-mapping.png)"
   ]
  },
  {
   "cell_type": "markdown",
   "metadata": {},
   "source": [
    "## Parse all JAAMS & Prism Extracts\n",
    "\n",
    "This process is expecting comma-delimited, quoted .txt files in a file structure as follows. The script doesn't care about case in the file name.  \n",
    "```\n",
    "        data  \n",
    "            jaams  \n",
    "                FV_FUND_PARAMETERS.txt  \n",
    "                FV_TREASURY_SYMBOLS.txt  \n",
    "                etc.  \n",
    "            prism  \n",
    "                association.txt  \n",
    "                docaddr.txt  \n",
    "                etc.  \n",
    "```\n",
    "                "
   ]
  },
  {
   "cell_type": "code",
   "execution_count": 353,
   "metadata": {
    "collapsed": false
   },
   "outputs": [],
   "source": [
    "jp_merge = pd.DataFrame()\n",
    "prism_files = glob.glob('data/prism/*.txt')\n",
    "prism = {}\n",
    "for file in prism_files:\n",
    "    key = file.split('/')[-1][:-4].lower()\n",
    "    prism[key] = pd.read_csv(file)\n",
    "    prism[key].rename(columns=lambda x: '{}.'.format(key) + x.lower(), inplace = True)\n",
    "jaams = {}\n",
    "jaams_files = glob.glob('data/jaams/*.txt')\n",
    "for file in jaams_files:\n",
    "    key = file.split('/')[-1][:-4].lower()\n",
    "    jaams[key] = pd.read_csv(file, index_col = False)\n",
    "    jaams[key].rename(columns=lambda x: '{}.'.format(key) + x.lower(), inplace = True)"
   ]
  },
  {
   "cell_type": "markdown",
   "metadata": {},
   "source": [
    "## JAAMS PO_HEADERS_ALL to Prism Header.docnum"
   ]
  },
  {
   "cell_type": "code",
   "execution_count": 354,
   "metadata": {
    "collapsed": false,
    "scrolled": true
   },
   "outputs": [
    {
     "name": "stdout",
     "output_type": "stream",
     "text": [
      "Number of po_headers_all records matched to prism header: 862\n"
     ]
    }
   ],
   "source": [
    "jp_merge = pd.merge(\n",
    "    jaams['po_headers_all'],\n",
    "    prism['header'],\n",
    "    left_on = 'po_headers_all.segment1',\n",
    "    right_on = 'header.docnum'\n",
    ")\n",
    "print ('Number of po_headers_all records matched to prism header: {}'.format(len(jp_merge.index)))"
   ]
  },
  {
   "cell_type": "markdown",
   "metadata": {},
   "source": [
    "## Merge in Other Required Data"
   ]
  },
  {
   "cell_type": "markdown",
   "metadata": {},
   "source": [
    "### GRANTHEADER (POP congressional district)|"
   ]
  },
  {
   "cell_type": "code",
   "execution_count": 355,
   "metadata": {
    "collapsed": false
   },
   "outputs": [
    {
     "data": {
      "text/plain": [
       "862"
      ]
     },
     "execution_count": 355,
     "metadata": {},
     "output_type": "execute_result"
    }
   ],
   "source": [
    "grantheader = prism['grantheader']\n",
    "jp_merge = pd.merge(\n",
    "    jp_merge, grantheader,\n",
    "    left_on = ['header.dockey', 'header.verkey'],\n",
    "    right_on = ['grantheader.dockey', 'grantheader.verkey']\n",
    ")\n",
    "len(jp_merge.index)"
   ]
  },
  {
   "cell_type": "markdown",
   "metadata": {},
   "source": [
    "### Vendor (Prism)\n",
    "According to mapping doc, the first address line of the awardee/recipient comes from SAM. The remaining portions of the address are mapped to Prism table docvendor."
   ]
  },
  {
   "cell_type": "code",
   "execution_count": 356,
   "metadata": {
    "collapsed": false
   },
   "outputs": [
    {
     "data": {
      "text/plain": [
       "862"
      ]
     },
     "execution_count": 356,
     "metadata": {},
     "output_type": "execute_result"
    }
   ],
   "source": [
    "jp_merge = pd.merge(\n",
    "    jp_merge, prism['docvendor'],\n",
    "    left_on = ['header.dockey', 'header.verkey'],\n",
    "    right_on = ['docvendor.dockey', 'docvendor.verkey']\n",
    ")\n",
    "len(jp_merge.index)"
   ]
  },
  {
   "cell_type": "markdown",
   "metadata": {},
   "source": [
    "### Itemacct (Prism)"
   ]
  },
  {
   "cell_type": "code",
   "execution_count": 357,
   "metadata": {
    "collapsed": false
   },
   "outputs": [
    {
     "data": {
      "text/plain": [
       "865"
      ]
     },
     "execution_count": 357,
     "metadata": {},
     "output_type": "execute_result"
    }
   ],
   "source": [
    "jp_merge = pd.merge(\n",
    "    jp_merge, prism['item'],\n",
    "    left_on = ['header.dockey', 'header.verkey'],\n",
    "    right_on = ['item.hdrdockey', 'item.hdrverkey']\n",
    ")\n",
    "len(jp_merge.index)"
   ]
  },
  {
   "cell_type": "code",
   "execution_count": 358,
   "metadata": {
    "collapsed": false
   },
   "outputs": [
    {
     "data": {
      "text/plain": [
       "869"
      ]
     },
     "execution_count": 358,
     "metadata": {},
     "output_type": "execute_result"
    }
   ],
   "source": [
    "jp_merge = pd.merge(\n",
    "    jp_merge, prism['deliverylocdate'],\n",
    "    left_on = ['item.dockey', 'item.verkey'],\n",
    "    right_on = ['deliverylocdate.dockey', 'deliverylocdate.verkey'])\n",
    "len(jp_merge.index)"
   ]
  },
  {
   "cell_type": "code",
   "execution_count": 359,
   "metadata": {
    "collapsed": false
   },
   "outputs": [
    {
     "data": {
      "text/plain": [
       "1022"
      ]
     },
     "execution_count": 359,
     "metadata": {},
     "output_type": "execute_result"
    }
   ],
   "source": [
    "jp_merge = pd.merge(\n",
    "    jp_merge, prism['itemacct'],\n",
    "    left_on = 'deliverylocdate.deliverylocdatekey',\n",
    "    right_on = 'itemacct.deliverylocdatekey'\n",
    ")\n",
    "len(jp_merge.index)"
   ]
  },
  {
   "cell_type": "markdown",
   "metadata": {},
   "source": [
    "### NAICS"
   ]
  },
  {
   "cell_type": "code",
   "execution_count": 360,
   "metadata": {
    "collapsed": false
   },
   "outputs": [
    {
     "data": {
      "text/plain": [
       "1022"
      ]
     },
     "execution_count": 360,
     "metadata": {},
     "output_type": "execute_result"
    }
   ],
   "source": [
    "jp_merge= pd.merge(\n",
    "    jp_merge, prism['naicssicdata'],\n",
    "    left_on = 'header.primarysiccode',\n",
    "    right_on = 'naicssicdata.naics',\n",
    "    how = 'left' #left join b/c NAICS not always applicable?\n",
    ")\n",
    "len(jp_merge.index)"
   ]
  },
  {
   "cell_type": "markdown",
   "metadata": {},
   "source": [
    "### JAAMS Vendor (awardee/recipient location)"
   ]
  },
  {
   "cell_type": "code",
   "execution_count": 361,
   "metadata": {
    "collapsed": false
   },
   "outputs": [
    {
     "data": {
      "text/plain": [
       "1022"
      ]
     },
     "execution_count": 361,
     "metadata": {},
     "output_type": "execute_result"
    }
   ],
   "source": [
    "jp_merge = pd.merge(\n",
    "    jp_merge, jaams['ap_supplier_sites_all'],\n",
    "    left_on = ['po_headers_all.vendor_id', 'po_headers_all.vendor_site_id'],\n",
    "    right_on = ['ap_supplier_sites_all.vendor_id', 'ap_supplier_sites_all.vendor_site_id'] \n",
    ")\n",
    "len(jp_merge.index)"
   ]
  },
  {
   "cell_type": "markdown",
   "metadata": {},
   "source": [
    "### PO_LINES_ALL (for award amount info)"
   ]
  },
  {
   "cell_type": "code",
   "execution_count": 362,
   "metadata": {
    "collapsed": false
   },
   "outputs": [
    {
     "data": {
      "text/plain": [
       "3148"
      ]
     },
     "execution_count": 362,
     "metadata": {},
     "output_type": "execute_result"
    }
   ],
   "source": [
    "jp_merge = pd.merge(\n",
    "    jp_merge, jaams['po_lines_all'],\n",
    "    left_on = ['po_headers_all.po_header_id'],\n",
    "    right_on = ['po_lines_all.po_header_id']\n",
    ")\n",
    "len(jp_merge.index)"
   ]
  },
  {
   "cell_type": "markdown",
   "metadata": {},
   "source": [
    "### PO_DISTRIBUTIONS_ALL (for type of transaction)"
   ]
  },
  {
   "cell_type": "code",
   "execution_count": 363,
   "metadata": {
    "collapsed": false
   },
   "outputs": [
    {
     "data": {
      "text/plain": [
       "3148"
      ]
     },
     "execution_count": 363,
     "metadata": {},
     "output_type": "execute_result"
    }
   ],
   "source": [
    "jp_merge = pd.merge(\n",
    "    jp_merge, jaams['po_distributions_all'],\n",
    "    left_on = ['po_lines_all.po_header_id', 'po_lines_all.po_line_id'],\n",
    "    right_on = ['po_distributions_all.po_header_id', 'po_distributions_all.po_line_id']\n",
    ")\n",
    "len(jp_merge.index)"
   ]
  },
  {
   "cell_type": "markdown",
   "metadata": {},
   "source": [
    "### GL_CODE_COMBINATIONS (funding office, object class, appropriations account)"
   ]
  },
  {
   "cell_type": "code",
   "execution_count": 364,
   "metadata": {
    "collapsed": false
   },
   "outputs": [
    {
     "data": {
      "text/plain": [
       "3148"
      ]
     },
     "execution_count": 364,
     "metadata": {},
     "output_type": "execute_result"
    }
   ],
   "source": [
    "jp_merge = pd.merge(\n",
    "    jp_merge, jaams['gl_code_combinations'],\n",
    "    left_on = 'po_distributions_all.code_combination_id',\n",
    "    right_on = 'gl_code_combinations.code_combination_id'\n",
    ")\n",
    "len(jp_merge.index)"
   ]
  },
  {
   "cell_type": "markdown",
   "metadata": {},
   "source": [
    "### FV_FUND_PARAMETERS and FV_TREASURY_SYMBOLS (TAS)"
   ]
  },
  {
   "cell_type": "code",
   "execution_count": 365,
   "metadata": {
    "collapsed": false
   },
   "outputs": [
    {
     "data": {
      "text/plain": [
       "3148"
      ]
     },
     "execution_count": 365,
     "metadata": {},
     "output_type": "execute_result"
    }
   ],
   "source": [
    "fv_fund_parameters = jaams['fv_fund_parameters']\n",
    "fv_treasury_symbols = jaams['fv_treasury_symbols']\n",
    "jp_merge = pd.merge(\n",
    "    pd.merge(fv_fund_parameters, fv_treasury_symbols, \n",
    "    left_on = 'fv_fund_parameters.treasury_symbol_id',\n",
    "    right_on = 'fv_treasury_symbols.treasury_symbol_id'),\n",
    "    jp_merge,\n",
    "    left_on = 'fv_fund_parameters.fund_value',\n",
    "    right_on = 'gl_code_combinations.segment2'\n",
    ")\n",
    "len(jp_merge.index)"
   ]
  },
  {
   "cell_type": "markdown",
   "metadata": {},
   "source": [
    "### FAADSCIV (record type, place of performance info)"
   ]
  },
  {
   "cell_type": "code",
   "execution_count": 366,
   "metadata": {
    "collapsed": false,
    "scrolled": true
   },
   "outputs": [
    {
     "data": {
      "text/plain": [
       "3152"
      ]
     },
     "execution_count": 366,
     "metadata": {},
     "output_type": "execute_result"
    }
   ],
   "source": [
    "#first merge in Association so we can map faadsciv back to header\n",
    "jp_merge = pd.merge(\n",
    "    jp_merge, prism['association'],\n",
    "    left_on = ['header.dockey', 'header.verkey'],\n",
    "    right_on = ['association.dockey', 'association.verkey']\n",
    ")\n",
    "#then use Association as the crosswalk\n",
    "jp_merge = pd.merge(\n",
    "    jp_merge, prism['faadsciv'],\n",
    "    left_on = ['association.assocdockey', 'association.assocverkey'],\n",
    "    right_on = ['faadsciv.dockey', 'faadsciv.verkey']\n",
    ")\n",
    "len(jp_merge.index)"
   ]
  },
  {
   "cell_type": "markdown",
   "metadata": {},
   "source": [
    "### Prism: Docaddr (awarding office name)\n",
    "\n"
   ]
  },
  {
   "cell_type": "code",
   "execution_count": 367,
   "metadata": {
    "collapsed": false
   },
   "outputs": [
    {
     "data": {
      "text/plain": [
       "3152"
      ]
     },
     "execution_count": 367,
     "metadata": {},
     "output_type": "execute_result"
    }
   ],
   "source": [
    "jp_merge = pd.merge(\n",
    "    jp_merge, prism['docaddr'],\n",
    "    left_on = 'header.issuingdocaddresskey',\n",
    "    right_on = 'docaddr.docaddrkey')\n",
    "len(jp_merge.index)"
   ]
  },
  {
   "cell_type": "markdown",
   "metadata": {},
   "source": [
    "## Add Calculated Fields and Various Hard-Coding"
   ]
  },
  {
   "cell_type": "code",
   "execution_count": 368,
   "metadata": {
    "collapsed": false
   },
   "outputs": [],
   "source": [
    "jp_merge['funding_agency_name'] = 'Small Business Administration'\n",
    "jp_merge['funding_agency_code'] = '073'\n",
    "jp_merge['funding_sub_tier_agency_name'] = 'Small Business Administration'\n",
    "jp_merge['funding_sub_tier_agency_code'] = '073'\n",
    "jp_merge['awarding_agency_name'] = 'Small Business Administration'\n",
    "jp_merge['awarding_agency_code'] = '073'\n",
    "jp_merge['awarding_sub_tier_agency_name'] = 'Small Business Administration'\n",
    "jp_merge['awarding_sub_tier_agency_code'] = '073'"
   ]
  },
  {
   "cell_type": "markdown",
   "metadata": {},
   "source": [
    "## Reduce the Huge Merged File to DATA Act Elements"
   ]
  },
  {
   "cell_type": "code",
   "execution_count": 369,
   "metadata": {
    "collapsed": false
   },
   "outputs": [],
   "source": [
    "jp_merge = jp_merge.drop_duplicates()\n",
    "data_act = jp_merge[[\n",
    "    'po_headers_all.segment1', #award id\n",
    "    'header.versionnum', #award modification\n",
    "    'po_lines_all.item_description', #award description\n",
    "    #'header.shortdescr', #award description\n",
    "    'header.awarddate', #action date\n",
    "    'docvendor.name', #Recipient name\n",
    "    'po_distributions_all.attribute10', #period of performance start date\n",
    "    #'header.startdate', #period of performance start date\n",
    "    'po_distributions_all.attribute11', #period of performance end date\n",
    "    #'header.enddate', #period of performance end date\n",
    "    'docvendor.duns', #awardee/recipient legal business DUNS\n",
    "    'docvendor.dunsplus4', #awardee/recipient legal business DUNS+4\n",
    "    'docvendor.address1', #awardee/recipient legal business street address line 1\n",
    "    'docvendor.address2', #awardee/recipient legal busines street address line 2\n",
    "    'docvendor.address3', #awardee/recipient legal business street address line 3\n",
    "    'docvendor.city', #awardee/recipient legal business city\n",
    "    'docvendor.state', #awardee/recipient state\n",
    "    'docvendor.zip', #awardee/recipient us zip code + 4; awardee/recipient postal code\n",
    "    'header.amount', #current total value of award/potential total value of award\n",
    "    'header.awardtype', #type of award\n",
    "    'header.primarysiccode', #naics code\n",
    "    'grantheader.sba1222countyname', #recipient county name\n",
    "    'grantheader.sba1222countycode', #recipient county code\n",
    "    'grantheader.recipientcountrycode', #awardee/recipient legal business country code\n",
    "    'grantheader.recipientcountryname', #awardee/recipient legal business country name\n",
    "    'grantheader.sba1222personalservicenf', #used for non-fed funding amt calculation\n",
    "    'grantheader.sba1222fringebenefitsnf', #used for non-fed funding amt calculation\n",
    "    'grantheader.sba1222consultantsnf', #used for non-fed funding amt calculation\n",
    "    'grantheader.sba1222travelnf', #used for non-fed funding amt calculation\n",
    "    'grantheader.sba1222equipmentnf', #used for non-fed funding amt calculation\n",
    "    'grantheader.sba1222suppliesnf', #used for non-fed funding amt calculation\n",
    "    'grantheader.sba1222contractualnf', #used for non-fed funding amt calculation\n",
    "    'grantheader.sba1222othernf', #used for non-fed funding amt calculation\n",
    "    'grantheader.sba1222indcostnf', #used for non-fed funding amt calculation\n",
    "    'grantheader.sba1222othercostnf', #used for non-fed funding amt calculation\n",
    "    #'fv_treasury_symbols.treasury_symbol', #TAS\n",
    "    'itemacct.tas#', #TAS\n",
    "    'po_lines_all.quantity',\n",
    "    'po_lines_all.unit_price',\n",
    "    'funding_agency_name', #funding agency name\n",
    "    'funding_agency_code', #funding agency code\n",
    "    'funding_sub_tier_agency_name', #funding sub-tier agency name\n",
    "    'funding_sub_tier_agency_code', #funding sub-tier agency code\n",
    "    'po_distributions_all.attribute_category', #type of award code\n",
    "    'header.obligatedamt', #amount of ba appropriated; obligation\n",
    "    'po_distributions_all.quantity_billed', #outlay\n",
    "    'gl_code_combinations.segment3', #funding office name\n",
    "    'itemacct.acctfield3', #funding office name and funding office code\n",
    "    'gl_code_combinations.segment5', #object class woo!\n",
    "    #'itemacct.acctfield5', #object class\n",
    "    #'gl_code_combinations.code_combination_id', #appropriations account\n",
    "    'itemacct.acctfield6', #appropriations account\n",
    "    'gl_code_combinations.segment4', #program activity\n",
    "    #'itemacct.acctfield4', #program activity\n",
    "    'grantheader.sba1222congdistno', #place of performance congressional district\n",
    "    'faadsciv.recordtype', #record type\n",
    "    'faadsciv.countycityname', #primary place of performance county name/primary place of performance city\n",
    "    'faadsciv.countycitycode', #primary place of performance county code\n",
    "    'faadsciv.principalstatecode', #primary place of performance state code\n",
    "    'faadsciv.principalstatename', #primary place of performance state name\n",
    "    'faadsciv.placeofperfzip', #primary place of performance zip code + 4\n",
    "    'faadsciv.placeofperfcountrycode', #primary location of performance country code\n",
    "    'faadsciv.placeofperfcountryname', #primary location of performance country name\n",
    "    'faadsciv.cfdaprogramnumber', #cfda program number\n",
    "    'faadsciv.cfdaprogramtitle', #cfda program title\n",
    "    'docaddr.name', #awarding office name\n",
    "    'header.issuingdocaddresskey', #awarding office code\n",
    "    'faadsciv.recipienttype', #recipient type\n",
    "    'funding_agency_name',\n",
    "    'funding_agency_code',\n",
    "    'funding_sub_tier_agency_name',\n",
    "    'funding_sub_tier_agency_code',\n",
    "    'awarding_agency_name',\n",
    "    'awarding_agency_code',\n",
    "    'awarding_sub_tier_agency_name',\n",
    "    'awarding_sub_tier_agency_code'\n",
    "    ]]\n",
    "\n",
    "#write out the data act file\n",
    "data_act.to_csv('data/data_act.csv', index = False)\n",
    "#also write out the entire merged file, so we can look for interesting things\n",
    "jp_merge.to_csv('data/jp_merge.csv', index = False)"
   ]
  }
 ],
 "metadata": {
  "kernelspec": {
   "display_name": "Python 2",
   "language": "python",
   "name": "python2"
  },
  "language_info": {
   "codemirror_mode": {
    "name": "ipython",
    "version": 2
   },
   "file_extension": ".py",
   "mimetype": "text/x-python",
   "name": "python",
   "nbconvert_exporter": "python",
   "pygments_lexer": "ipython2",
   "version": "2.7.9"
  }
 },
 "nbformat": 4,
 "nbformat_minor": 0
}
