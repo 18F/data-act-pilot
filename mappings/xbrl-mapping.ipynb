{
 "cells": [
  {
   "cell_type": "markdown",
   "metadata": {},
   "source": [
    "# Mapping Pilot Files to Draft DATA Act Standard\n",
    "\n",
    "This is an exercise of mapping data elements from the [pilot's input files](https://github.com/18F/data-act-pilot/tree/master/schema) to the [draft DATA Act Standard](http://fedspendingtransparency.github.io/data-exchange-standard/).\n",
    "\n",
    "1. Get a list of data elements from the XML draft data act standard (i.e., a series of .xsd files)\n",
    "2. For each of the four input files used in this pilot, match the column names to their XML counterparts\n",
    "3. Output the mappings (and show which pilot data elements don't map to the XML version\n",
    "\n",
    "## Setup\n",
    "\n",
    "For this notebook to work, you will need:\n",
    "\n",
    "### Schema File\n",
    "The \"palette\" DATA Act schema .xsd file that includes financial, awards, and assistance awards information. This file is included in the [_Schema instance (XML version)_ download](http://fedspendingtransparency.github.io/assets/docs/DATA_Act_Schema_v0.5.zip) and is named _plt/case-finassist-ussglfin/da-palette-finassist-ussglfin-2015-06-29.xsd_\n",
    "\n",
    "**Note**: The repo contains a copy of the .xsd files in schema/xbrl, but this will have to be updated when a new draft of the standard is released.\n",
    "\n",
    "### generateDS Python Package\n",
    "The [generateDS Python package](http://pythonhosted.org/generateDS/) generates Python class definitions for XML schema docs. For this exercise, we don't really need the class because we're not parsing data. However, there's some handy code in generated class that provides a list of data elements in the .xsd. We use this shortcut to get a list of the XBRL elements so we can compare them to the pilot input files.\n",
    "\n",
    "**Note**: So far, research into open source ecosystem for open source XML schema/XBRL tools shows that it's pretty weak and outdated. \n",
    "\n",
    "For example, installing generateDS using pip (either PyPi or Bitbucket) doesn't actually run setup.py. Here is an annoying series of steps I used to install it.\n",
    "1. download the project .tar\n",
    "1. unzip .tar into your virtualenv's site-packages folder\n",
    "1. from your virtualenv's site-packages folder:\n",
    "    * ```cd generateDS-2.17a0```\n",
    "    * ```python setup.py build```\n",
    "    * ```python setup.py install```"
   ]
  },
  {
   "cell_type": "markdown",
   "metadata": {},
   "source": [
    "### Read the .xsd schemas and create Python objects\n",
    "\n",
    "This command sends the DATA Act gen, award, and finassist .xsd schemas to generateDS and outputs corresponding Python class definitions for each. Change the command to reflect the location of generateDS.py on your system."
   ]
  },
  {
   "cell_type": "code",
   "execution_count": null,
   "metadata": {
    "collapsed": false
   },
   "outputs": [],
   "source": [
    "!python ~/Dev/.virtualenvs/intercessor/lib/python2.7/site-packages/generateDS-2.17a0/generateDS.py -o gen.py -qf --no-dates --no-versions ../schema/xbrl/gen/da-gen-2015-06-29.xsd\n",
    "!python ~/Dev/.virtualenvs/intercessor/lib/python2.7/site-packages/generateDS-2.17a0/generateDS.py -o ussglfin.py -qf --no-dates --no-versions ../schema/xbrl/ussglfin/da-ussglfin-content-2015-06-29.xsd\n",
    "!python ~/Dev/.virtualenvs/intercessor/lib/python2.7/site-packages/generateDS-2.17a0/generateDS.py -o award.py -qf --no-dates --no-versions ../schema/xbrl/award/da-award-content-2015-06-29.xsd\n",
    "!python ~/Dev/.virtualenvs/intercessor/lib/python2.7/site-packages/generateDS-2.17a0/generateDS.py -o finassist.py -qf --no-dates --no-versions ../schema/xbrl/finassist/da-finassist-content-2015-06-29.xsd\n",
    "!python ~/Dev/.virtualenvs/intercessor/lib/python2.7/site-packages/generateDS-2.17a0/generateDS.py -o procurement.py -qf --no-dates --no-versions ../schema/xbrl/procurement/da-procurement-content-2015-06-29.xsd"
   ]
  },
  {
   "cell_type": "markdown",
   "metadata": {},
   "source": [
    "### Use Python objects to grab XBRL element names\n",
    "\n",
    "Use Python classes generated in the previous step to get a list of the XML data element names and make some dataframes."
   ]
  },
  {
   "cell_type": "code",
   "execution_count": null,
   "metadata": {
    "collapsed": false
   },
   "outputs": [],
   "source": [
    "import pandas as pd\n",
    "import gen, finassist, award, ussglfin, procurement\n",
    "def get_fields(schema):\n",
    "    mapper = schema\n",
    "    elementDict = mapper.GDSClassesMapping\n",
    "    xbrl_elements = pd.DataFrame(list(elementDict.items()), columns = ['xbrl_element', 'xbrl_type'])\n",
    "    xbrl_elements['xbrl_element_lower'] = xbrl_elements['xbrl_element'].str.lower()\n",
    "    xbrl_elements['xbrl_schema'] = mapper.__name__\n",
    "    type = lambda x: x.__name__\n",
    "    xbrl_elements['xbrl_type'] = xbrl_elements['xbrl_type'].map(type)\n",
    "    return xbrl_elements\n",
    "fields_gen = get_fields(gen)\n",
    "fields_ussglfin = get_fields(ussglfin)\n",
    "fields_award = get_fields(award)\n",
    "fields_finassist = get_fields(finassist)\n",
    "fields_procurement = get_fields(procurement)\n",
    "#important - concatenate in this order so the subsequent de-dupe keeps the row that documents the correct schema\n",
    "xbrl_elements = pd.concat([fields_gen, fields_ussglfin, fields_award, fields_finassist, fields_procurement])\n",
    "xbrl_elements = xbrl_elements.drop_duplicates(subset='xbrl_element')\n",
    "xbrl_elements.to_csv('xbrl_elements.csv', index = False)"
   ]
  },
  {
   "cell_type": "markdown",
   "metadata": {},
   "source": [
    "### Crosswalk XML and .csv element names\n",
    "\n",
    "Some element names in the current XML-based schema don't reflect the element names released in late July. The names will sync-up in the future. For now, create a crosswalk dictionary that we can use for the data mapping."
   ]
  },
  {
   "cell_type": "code",
   "execution_count": null,
   "metadata": {
    "collapsed": true
   },
   "outputs": [],
   "source": [
    "csv_xml_crosswalk = {\n",
    "    'budgetauthorityappropriatedamount' : 'budgetAuthorityAppropriated',\n",
    "    'mainaccountcode' : 'mainAccountNumber',\n",
    "    'otherbudgetaryresourcesamount' : 'otherBudgetaryResources',\n",
    "    'outlayamount' : 'outlays',\n",
    "    'piidprefix' : 'awardID',\n",
    "    'piidawardyear' : 'awardID',\n",
    "    'piidawardtype' : 'awardID',\n",
    "    'piidawardnumber' : 'awardID',\n",
    "    'fainawardnumber' : 'awardID',\n",
    "    'awardmodamendmentnumber' : 'modificationAmendmentNumber',\n",
    "    'currenttotalfundingobligationamount' : 'totalFundingAmount', #finassist\n",
    "    'currenttotalvalueawardamount' : 'currentTotalValueOfAward', #proc\n",
    "    'potentialtotalvalueawardamount' : 'potentialTotalValueOfAward', #proc\n",
    "    'parentawardidprefix' : 'parentAwardID',\n",
    "    'parentawardyear' : 'parentAwardID',\n",
    "    'parentawardtype' : 'parentAwardID',\n",
    "    'parentawardnumber' : 'parentAwardID',\n",
    "    'actiondateday' : 'periodOfPerformanceActionDate',\n",
    "    'actiondatemonth' : 'periodOfPerformanceActionDate',\n",
    "    'actiondateyear' : 'periodOfPerformanceActionDate',\n",
    "    'assistancetype' : 'typeOfTransactionCode',\n",
    "    'typeofcontractpricing' : 'typeOfTransactionCode',\n",
    "    'idvtype' : 'typeOfTransactionCode',\n",
    "    'contractawardtype' : 'typeOfTransactionCode',\n",
    "    'reasonformodification' : 'typeOfAction',\n",
    "    'curenttotalfundingobligationamount' : 'totalFundingAmount',\n",
    "    'awardingagencyname' : 'awardingAgency', #awardingAgency = gen:agencyComplexType\n",
    "    'awardingagencycode' : 'awardingAgency',\n",
    "    'awardingsubtieragencycode': 'awardingSubTierAgency', #awardingSubTierAgency = gen:agencyComplexType\n",
    "    'awardingsubtieragencyname' : 'awardingSubTierAgency',\n",
    "    'fundingagencyname' : 'fundingAgency', #fundingAgency = gen:agencyComplexType\n",
    "    'fundingagencycode' : 'fundingAgency',\n",
    "    'fundingsubtieragencyname' : 'fundingSubTierAgency', #fundingSubTierAgency = gen:agencyComplexType\n",
    "    'fundingsubtieragencycode' : 'fundingSubTierAgency',\n",
    "    'cfda_description' : 'catalogOfFederalDomesticAssistanceTitle',\n",
    "    'cfda_code' : 'catalogOfFederalDomesticAssistanceNumber',\n",
    "    'periodofperfstartday' : 'periodOfPerformanceStartDate', #all dates = xbrli:dateItemType\n",
    "    'periodofperfstartmonth' : 'periodOfPerformanceStartDate',\n",
    "    'periodofperfstartyear' : 'periodOfPerformanceStartDate',\n",
    "    'periodofperfcurrentendday' : 'periodOfPerformanceCurrentEndDate',\n",
    "    'perioofperfcurrentendmonth' : 'periodOfPerformanceCurrentEndDate',\n",
    "    'periodofperfcurrentendyear' : 'periodOfPerformanceCurrentEndDate',\n",
    "    'periodofperfpotentialendday' : 'periodOfPerformancePotentialEndDate',\n",
    "    'periodofperfpotentialendmonth' : 'periodOfPerformancePotentialEndDate',\n",
    "    'periodofperfpotentialendyear' : 'periodOfPerformancePotentialEndDate',\n",
    "    'orderingperiodendday' : 'periodOfPerformanceOrderingPeriodEndDate',\n",
    "    'orderingperiodendmonth' :'periodOfPerformanceOrderingPeriodEndDate',\n",
    "    'orderingperiodendyear': 'periodOfPerformanceOrderingPeriodEndDate',\n",
    "    'recipientdunsnumber' : 'awardeeUniqueIdentifier',\n",
    "    'recipientultimateparentuniqueid' : 'ultimateParentUniqueIdentifier',\n",
    "    'recipientultimateparentlegalentityname' : 'ultimateParentLegalBusinessName',\n",
    "    'recipientlegalentityaddressstreet1' : 'awardeeAddress', #awardeeAddress = gen:addressComplexType\n",
    "    #'recipientlegalentityaddressstreet2' : 'awardeeAddress',\n",
    "    'recipientlegalentitycityname' : 'awardeeAddress', \n",
    "    'recipientlegalentitystatecode' : 'awardeeAddress',\n",
    "    'recipientlegalentityzip' : 'awardeeAddress',\n",
    "    'recipientlegalentityzip+4' : 'awardeeAddress',\n",
    "    'recipientlegalentitypostalcode' : 'awardeeAddress',\n",
    "    'recipientlegalentitycongressionaldistrict' : 'awardeeAddress',\n",
    "    'recipientlegalentitycountrycode' : 'awardeeAddress',\n",
    "    'recipientlegalentitycountryname' : 'awardeeAddress',\n",
    "    'recipientlegalentityname' : 'awardeeLegalBusinessName',\n",
    "    'highcompofficer1firstname' : 'highlyCompensatedOfficerFirstName', #highlyCompensatedOfficer = award:highlyCompensatedOfficerComplexType\n",
    "    'highcompofficer1middleinitial' : 'highlyCompensatedOfficerMiddleInitial',\n",
    "    'highcompofficer1lastname' : 'highlyCompensatedOfficerLastName',\n",
    "    'highcompofficer1amount' : 'highlyCompensatedOfficerCompensation', \n",
    "    'highcompofficer2firstname' : 'highlyCompensatedOfficerFirstName', #highlyCompensatedOfficer = award:highlyCompensatedOfficerComplexType\n",
    "    'highcompofficer2middleinitial' : 'highlyCompensatedOfficerMiddleInitial',\n",
    "    'highcompofficer2lastname' : 'highlyCompensatedOfficerLastName',\n",
    "    'highcompofficer2amount' : 'highlyCompensatedOfficerCompensation',\n",
    "    'highcompofficer3firstname' : 'highlyCompensatedOfficerFirstName', #highlyCompensatedOfficer = award:highlyCompensatedOfficerComplexType\n",
    "    'highcompofficer3middleinitial' : 'highlyCompensatedOfficerMiddleInitial',\n",
    "    'highcompofficer3lastname' : 'highlyCompensatedOfficerLastName',\n",
    "    'highcompofficer3amount' : 'highlyCompensatedOfficerCompensation', \n",
    "    'highcompofficer4firstname' : 'highlyCompensatedOfficerFirstName', #highlyCompensatedOfficer = award:highlyCompensatedOfficerComplexType\n",
    "    'highcompofficer4middleinitial' : 'highlyCompensatedOfficerMiddleInitial',\n",
    "    'highcompofficer4lastname' : 'highlyCompensatedOfficerLastName',\n",
    "    'highcompofficer4amount' : 'highlyCompensatedOfficerCompensation', \n",
    "    'highcompofficer5firstname' : 'highlyCompensatedOfficerFirstName', #highlyCompensatedOfficer = award:highlyCompensatedOfficerComplexType\n",
    "    'highcompofficer5middleinitial' : 'highlyCompensatedOfficerMiddleInitial',\n",
    "    'highcompofficer5lastname' : 'highlyCompensatedOfficerLastName',\n",
    "    'highcompofficer5amount' : 'highlyCompensatedOfficerCompensation',\n",
    "    'placeofperfcity' : 'primaryPlaceOfPerformance',\n",
    "    'placeofperfstate' : 'primaryPlaceOfPerformance',\n",
    "    'placeofperfcounty' : 'primaryPlaceOfPerformance',\n",
    "    'placeofperfzip+4' :'primaryPlaceOfPerformance',\n",
    "    'placeofperfcongressionaldistrict' : 'primaryPlaceOfPerformance', \n",
    "    'placeofperfcountryname' : 'primaryPlaceOfPerformance',\n",
    "    'naics_code' : 'naicsNumber',\n",
    "    'naics_description' : 'naicsDescription'\n",
    "}\n",
    "def map_csv(csv_df, xbrl_df = xbrl_elements, crosswalk = csv_xml_crosswalk):\n",
    "    csv_df = csv_df[['elementMappingName']]\n",
    "    csv_df = csv_df.rename(columns = {'elementMappingName':'csv_element'})\n",
    "    csv_df['csv_element_lower'] = csv_df['csv_element'].str.lower()\n",
    "    csv_df = pd.merge(\n",
    "        csv_df,\n",
    "        xbrl_df[['xbrl_element_lower', 'xbrl_element']],\n",
    "        how='left', left_on='csv_element_lower',\n",
    "        right_on='xbrl_element_lower')\n",
    "    for key in crosswalk:\n",
    "        csv_df['xbrl_element'][(csv_df['csv_element_lower'] == key)] = crosswalk[key]\n",
    "    #csv_df = csv_df.fillna({'xbrl_element': ''})\n",
    "    csv_df = pd.merge(csv_df, xbrl_elements, how='left', left_on='xbrl_element', right_on='xbrl_element')\n",
    "    csv_df = csv_df.fillna('')\n",
    "    csv_df = csv_df[['csv_element', 'xbrl_element', 'xbrl_type', 'xbrl_schema']]\n",
    "    return csv_df"
   ]
  },
  {
   "cell_type": "markdown",
   "metadata": {},
   "source": [
    "### For each of the four csvs, match element names to XML counterpart"
   ]
  },
  {
   "cell_type": "code",
   "execution_count": null,
   "metadata": {
    "collapsed": false
   },
   "outputs": [],
   "source": [
    "#appropriations\n",
    "approp = pd.read_csv('../schema/appropriation.csv')\n",
    "xbrl_mapping_approp = map_csv(approp)\n",
    "xbrl_mapping_approp"
   ]
  },
  {
   "cell_type": "code",
   "execution_count": null,
   "metadata": {
    "collapsed": false,
    "scrolled": true
   },
   "outputs": [],
   "source": [
    "#appropriations/object class/program activity\n",
    "obj_class_pgm_activity = pd.read_csv('../schema/object_class_program_activity.csv')\n",
    "xbrl_mapping_ocpa = map_csv(obj_class_pgm_activity)\n",
    "xbrl_mapping_ocpa"
   ]
  },
  {
   "cell_type": "code",
   "execution_count": null,
   "metadata": {
    "collapsed": false,
    "scrolled": true
   },
   "outputs": [],
   "source": [
    "#award financial\n",
    "award_financial = pd.read_csv('../schema/award_financial.csv')\n",
    "xbrl_mapping_award_financial = map_csv(award_financial)\n",
    "xbrl_mapping_award_financial"
   ]
  },
  {
   "cell_type": "code",
   "execution_count": null,
   "metadata": {
    "collapsed": false,
    "scrolled": false
   },
   "outputs": [],
   "source": [
    "#award\n",
    "award = pd.read_csv('../schema/award.csv')\n",
    "xbrl_mapping_award = map_csv(award)\n",
    "xbrl_mapping_award"
   ]
  },
  {
   "cell_type": "markdown",
   "metadata": {},
   "source": [
    "### Save mapping results"
   ]
  },
  {
   "cell_type": "code",
   "execution_count": null,
   "metadata": {
    "collapsed": true
   },
   "outputs": [],
   "source": [
    "xbrl_mapping_approp.to_csv('xbrl_mapping_approp.csv', index = False)\n",
    "xbrl_mapping_ocpa.to_csv('xbrl_mapping_ocpa.csv', index = False)\n",
    "xbrl_mapping_award_financial.to_csv('xbrl_mapping_award_financial.csv', index = False)\n",
    "xbrl_mapping_award.to_csv('xbrl_mapping_award.csv', index = False)"
   ]
  }
 ],
 "metadata": {
  "kernelspec": {
   "display_name": "Python 2",
   "language": "python",
   "name": "python2"
  },
  "language_info": {
   "codemirror_mode": {
    "name": "ipython",
    "version": 2
   },
   "file_extension": ".py",
   "mimetype": "text/x-python",
   "name": "python",
   "nbconvert_exporter": "python",
   "pygments_lexer": "ipython2",
   "version": "2.7.9"
  }
 },
 "nbformat": 4,
 "nbformat_minor": 0
}
