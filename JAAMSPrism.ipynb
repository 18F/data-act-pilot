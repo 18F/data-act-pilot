{
 "cells": [
  {
   "cell_type": "markdown",
   "metadata": {},
   "source": [
    "# SBA DATA Act Pilot: JAAMS + Prism\n",
    "\n",
    "The code below uses the JAAMS and Prism test data supplied by SBA to create a single file that contains the required DATA Act elements. This is a first pass, and this notebook tracks the process, assumptions, and outstanding questions."
   ]
  },
  {
   "cell_type": "code",
   "execution_count": 184,
   "metadata": {
    "collapsed": false
   },
   "outputs": [],
   "source": [
    "#style up the notebook\n",
    "#from IPython.core.display import HTML\n",
    "#css_file = 'assets/css/notebook-style.css'\n",
    "#HTML(open(css_file, \"r\").read())"
   ]
  },
  {
   "cell_type": "code",
   "execution_count": 185,
   "metadata": {
    "collapsed": false
   },
   "outputs": [],
   "source": [
    "import pandas as pd\n",
    "import numpy as np\n",
    "import glob\n",
    "pd.options.mode.chained_assignment = None\n",
    "pd.set_option('expand_frame_repr', True)"
   ]
  },
  {
   "cell_type": "markdown",
   "metadata": {},
   "source": [
    "## Joining JAAMS and Prism\n",
    "\n",
    "This work hinges on the ability to match SBA's financial system (JAAMS) and its grants system (Prism). The starting point was award id identified in the mapping document: JAAMS PO_HEADERS_ALL.SEGMENT1. We matched that to the Prism HEADER.DOCNUM.\n",
    "\n",
    "Once JAAMS and Prism were joined, we built out from there, pulling in other financial and grants tables using the provided files and SQL join statements.\n",
    "\n",
    "The image below is a rough sketch of how we joined the tables to gather the required DATA Act information.\n",
    "\n",
    "![SBA DATA Act Mappings](assets/images/jaams-prism-data-act-mapping.png)"
   ]
  },
  {
   "cell_type": "markdown",
   "metadata": {},
   "source": [
    "## Parse all JAAMS & Prism Extracts\n",
    "\n",
    "This process is expecting comma-delimited, quoted .txt files."
   ]
  },
  {
   "cell_type": "code",
   "execution_count": 186,
   "metadata": {
    "collapsed": false
   },
   "outputs": [],
   "source": [
    "prism_files = glob.glob('data/prism/*.txt')\n",
    "prism = {}\n",
    "for file in prism_files:\n",
    "    key = file.split('/')[-1][:-4].lower()\n",
    "    prism[key] = pd.read_csv(file)\n",
    "    prism[key].rename(columns=lambda x: '{}.'.format(key) + x.lower(), inplace = True)\n",
    "jaams = {}\n",
    "jaams_files = glob.glob('data/jaams/*.txt')\n",
    "for file in jaams_files:\n",
    "    key = file.split('/')[-1][:-4].lower()\n",
    "    jaams[key] = pd.read_csv(file, index_col = False)\n",
    "    jaams[key].rename(columns=lambda x: '{}.'.format(key) + x.lower(), inplace = True)"
   ]
  },
  {
   "cell_type": "markdown",
   "metadata": {},
   "source": [
    "## JAAMS PO_HEADERS_ALL to Prism Header.docnum"
   ]
  },
  {
   "cell_type": "code",
   "execution_count": 187,
   "metadata": {
    "collapsed": false,
    "scrolled": true
   },
   "outputs": [
    {
     "name": "stdout",
     "output_type": "stream",
     "text": [
      "Number of po_headers_all records matched to prism header: 862\n"
     ]
    }
   ],
   "source": [
    "header = prism['header']\n",
    "header['header.dockey'] = header['header.dockey'].astype(np.int64)\n",
    "header['header.verkey'] = header['header.verkey'].astype(np.int64)\n",
    "\n",
    "po_headers_all = jaams['po_headers_all']\n",
    "\n",
    "jp_merge = pd.merge(\n",
    "    po_headers_all,\n",
    "    header,\n",
    "    left_on = 'po_headers_all.segment1',\n",
    "    right_on = 'header.docnum'\n",
    ")\n",
    "print ('Number of po_headers_all records matched to prism header: {}'.format(len(jp_merge.index)))"
   ]
  },
  {
   "cell_type": "markdown",
   "metadata": {},
   "source": [
    "## Merge in Other Required Data"
   ]
  },
  {
   "cell_type": "markdown",
   "metadata": {},
   "source": [
    "### GRANTHEADER (POP congressional district)\n",
    "\n",
    "Join columns = dockey, verkey  \n",
    "1:1?  \n",
    "via data/prism/joins.txt"
   ]
  },
  {
   "cell_type": "code",
   "execution_count": 188,
   "metadata": {
    "collapsed": false
   },
   "outputs": [
    {
     "data": {
      "text/plain": [
       "862"
      ]
     },
     "execution_count": 188,
     "metadata": {},
     "output_type": "execute_result"
    }
   ],
   "source": [
    "grantheader = prism['grantheader']\n",
    "grantheader['grantheader.dockey'] = grantheader['grantheader.dockey'].astype(np.int64)\n",
    "grantheader['grantheader.verkey'] = grantheader['grantheader.verkey'].astype(np.int64)\n",
    "jp_merge = pd.merge(\n",
    "    jp_merge, grantheader,\n",
    "    left_on = ['header.dockey', 'header.verkey'],\n",
    "    right_on = ['grantheader.dockey', 'grantheader.verkey']\n",
    ")\n",
    "len(jp_merge.index)"
   ]
  },
  {
   "cell_type": "markdown",
   "metadata": {},
   "source": [
    "### Vendor (Prism)\n",
    "According to mapping doc, the first address line of the awardee/recipient comes from SAM. The remaining portions of the address are mapped to Prism table docvendor.\n",
    "\n",
    "Join columns = dockey, verkey     \n",
    "1:1?  \n",
    "via data/prism/joins.txt  "
   ]
  },
  {
   "cell_type": "code",
   "execution_count": 189,
   "metadata": {
    "collapsed": false
   },
   "outputs": [
    {
     "data": {
      "text/plain": [
       "862"
      ]
     },
     "execution_count": 189,
     "metadata": {},
     "output_type": "execute_result"
    }
   ],
   "source": [
    "jp_merge = pd.merge(\n",
    "    jp_merge, docvendor,\n",
    "    left_on = ['header.dockey', 'header.verkey'],\n",
    "    right_on = ['docvendor.dockey', 'docvendor.verkey']\n",
    ")\n",
    "len(jp_merge.index)"
   ]
  },
  {
   "cell_type": "markdown",
   "metadata": {},
   "source": [
    "### JAAMS Vendor (awardee/recipient location)\n",
    "\n",
    "Join columns: vendor_id, vendor_site_id  \n",
    "1:1?  \n",
    "This join info wasn't explicitly stated in data/jaams/sql/basic table joins.sql. Just guessing here."
   ]
  },
  {
   "cell_type": "code",
   "execution_count": 190,
   "metadata": {
    "collapsed": false
   },
   "outputs": [
    {
     "data": {
      "text/plain": [
       "862"
      ]
     },
     "execution_count": 190,
     "metadata": {},
     "output_type": "execute_result"
    }
   ],
   "source": [
    "ap_supplier_sites_all = jaams['ap_supplier_sites_all']\n",
    "jp_merge = pd.merge(\n",
    "    jp_merge, ap_supplier_sites_all,\n",
    "    left_on = ['po_headers_all.vendor_id', 'po_headers_all.vendor_site_id'],\n",
    "    right_on = ['ap_supplier_sites_all.vendor_id', 'ap_supplier_sites_all.vendor_site_id'] \n",
    ")\n",
    "len(jp_merge.index)"
   ]
  },
  {
   "cell_type": "markdown",
   "metadata": {},
   "source": [
    "### PO_LINES_ALL (for award amount info)\n",
    "\n",
    "Join columns = po_header_id  \n",
    "1:n  \n",
    "via data/jaams/sql/basic table joins.sql"
   ]
  },
  {
   "cell_type": "code",
   "execution_count": 191,
   "metadata": {
    "collapsed": false
   },
   "outputs": [
    {
     "data": {
      "text/plain": [
       "2548"
      ]
     },
     "execution_count": 191,
     "metadata": {},
     "output_type": "execute_result"
    }
   ],
   "source": [
    "po_lines_all = jaams['po_lines_all']\n",
    "jp_merge = pd.merge(\n",
    "    jp_merge, po_lines_all,\n",
    "    left_on = ['po_headers_all.po_header_id'],\n",
    "    right_on = ['po_lines_all.po_header_id']\n",
    ")\n",
    "len(jp_merge.index)"
   ]
  },
  {
   "cell_type": "markdown",
   "metadata": {},
   "source": [
    "### PO_DISTRIBUTIONS_ALL (for type of transaction)\n",
    "\n",
    "Join columns = po_header_id, po_line_id  \n",
    "1:1 (i.e., in this sample data, at least, there was not more than one po distribution per po line)  \n",
    "via data/jaams/sql/basic table joins.sql"
   ]
  },
  {
   "cell_type": "code",
   "execution_count": 192,
   "metadata": {
    "collapsed": false
   },
   "outputs": [
    {
     "data": {
      "text/plain": [
       "2548"
      ]
     },
     "execution_count": 192,
     "metadata": {},
     "output_type": "execute_result"
    }
   ],
   "source": [
    "po_distributions_all = jaams['po_distributions_all']\n",
    "jp_merge = pd.merge(\n",
    "    jp_merge, po_distributions_all,\n",
    "    left_on = ['po_lines_all.po_header_id', 'po_lines_all.po_line_id'],\n",
    "    right_on = ['po_distributions_all.po_header_id', 'po_distributions_all.po_line_id']\n",
    ")\n",
    "len(jp_merge.index)"
   ]
  },
  {
   "cell_type": "markdown",
   "metadata": {},
   "source": [
    "### GL_CODE_COMBINATIONS (funding office, object class, appropriations account)\n",
    "\n",
    "Join columns = code_combination_id  \n",
    "1:1 (i.e., in this sample data, there was one gl_code_combination per po_line)  \n",
    "via data/jaams/sql/basic table joins.sql"
   ]
  },
  {
   "cell_type": "code",
   "execution_count": 193,
   "metadata": {
    "collapsed": false
   },
   "outputs": [
    {
     "data": {
      "text/plain": [
       "2548"
      ]
     },
     "execution_count": 193,
     "metadata": {},
     "output_type": "execute_result"
    }
   ],
   "source": [
    "gl_code_combinations = jaams['gl_code_combinations']\n",
    "jp_merge = pd.merge(\n",
    "    jp_merge, gl_code_combinations,\n",
    "    left_on = 'po_distributions_all.code_combination_id',\n",
    "    right_on = 'gl_code_combinations.code_combination_id'\n",
    ")\n",
    "len(jp_merge.index)"
   ]
  },
  {
   "cell_type": "markdown",
   "metadata": {},
   "source": [
    "## FV_FUND_PARAMETERS and FV_TREASURY_SYMBOLS (TAS)"
   ]
  },
  {
   "cell_type": "code",
   "execution_count": 194,
   "metadata": {
    "collapsed": false
   },
   "outputs": [
    {
     "data": {
      "text/plain": [
       "2548"
      ]
     },
     "execution_count": 194,
     "metadata": {},
     "output_type": "execute_result"
    }
   ],
   "source": [
    "fv_fund_parameters = jaams['fv_fund_parameters']\n",
    "fv_treasury_symbols = jaams['fv_treasury_symbols']\n",
    "jp_merge = pd.merge(\n",
    "    pd.merge(fv_fund_parameters, fv_treasury_symbols, \n",
    "    left_on = 'fv_fund_parameters.treasury_symbol_id',\n",
    "    right_on = 'fv_treasury_symbols.treasury_symbol_id'),\n",
    "    jp_merge,\n",
    "    left_on = 'fv_fund_parameters.fund_value',\n",
    "    right_on = 'gl_code_combinations.segment2'\n",
    ")\n",
    "len(jp_merge.index)"
   ]
  },
  {
   "cell_type": "markdown",
   "metadata": {},
   "source": [
    "### FAADSCIV (record type, place of performance info)\n",
    "\n",
    "faadsciv joins to the header table by using a crosswalk (called Association).  \n",
    "See data/prism/joins.txt for more information  \n",
    "1:1  "
   ]
  },
  {
   "cell_type": "code",
   "execution_count": 195,
   "metadata": {
    "collapsed": false,
    "scrolled": true
   },
   "outputs": [
    {
     "data": {
      "text/plain": [
       "2552"
      ]
     },
     "execution_count": 195,
     "metadata": {},
     "output_type": "execute_result"
    }
   ],
   "source": [
    "#first merge in Association so we can map faadsciv back to header\n",
    "association = prism['association']\n",
    "jp_merge = pd.merge(\n",
    "    jp_merge, association,\n",
    "    left_on = ['header.dockey', 'header.verkey'],\n",
    "    right_on = ['association.dockey', 'association.verkey']\n",
    ")\n",
    "#then use Association as the crosswalk\n",
    "faadsciv = prism['faadsciv']\n",
    "jp_merge = pd.merge(\n",
    "    jp_merge, faadsciv,\n",
    "    left_on = ['association.assocdockey', 'association.assocverkey'],\n",
    "    right_on = ['faadsciv.dockey', 'faadsciv.verkey']\n",
    ")\n",
    "len(jp_merge.index)"
   ]
  },
  {
   "cell_type": "markdown",
   "metadata": {},
   "source": [
    "### Prism: Docaddr (awarding office name)\n",
    "\n",
    "Join columns: header.issuingdocaddresskey = docaddr.docaddrkey  \n",
    "1:?  \n",
    "via data/prism/joins.txt\n",
    "\n",
    "#### Docaddr is missing, so hard-coding it based on the provided file: data_act_prism_grants_fy14.csv"
   ]
  },
  {
   "cell_type": "code",
   "execution_count": 196,
   "metadata": {
    "collapsed": true
   },
   "outputs": [],
   "source": [
    "jp_merge['docaddr.name'] = 'Office of Grants Management'"
   ]
  },
  {
   "cell_type": "markdown",
   "metadata": {},
   "source": [
    "### Prism: Vendor2 (recipient type)\n",
    "\n",
    "Join columns: ??  \n",
    "1:??  \n",
    "data/prism/joins.txt does not include Vendor2\n",
    "\n",
    "#### Vendor2 is missing, so hard-coding it based on the provided file: data_act_prism_grants_fy14.csv"
   ]
  },
  {
   "cell_type": "code",
   "execution_count": 197,
   "metadata": {
    "collapsed": true
   },
   "outputs": [],
   "source": [
    "jp_merge['vendor2.businesstype'] = 'Other nonprofit'"
   ]
  },
  {
   "cell_type": "markdown",
   "metadata": {},
   "source": [
    "### JAAMS: FIND_FLEX_VALUES_VL (funding office code)\n",
    "\n",
    "Join columns: ??  \n",
    "1:??  \n",
    "data/jaams/sql/basic table joins.sql does not include find_flex_values_vl\n",
    "\n",
    "#### FIND_FLEX_VALUES_VL is missing, so hard-coding based on provided file: data_act_prism_grants_fy14.csv"
   ]
  },
  {
   "cell_type": "code",
   "execution_count": 198,
   "metadata": {
    "collapsed": false
   },
   "outputs": [],
   "source": [
    "jp_merge['find_flex_values_vl'] = '602001'"
   ]
  },
  {
   "cell_type": "markdown",
   "metadata": {},
   "source": [
    "## Add Calculated Fields and Various Hard-Coding"
   ]
  },
  {
   "cell_type": "code",
   "execution_count": 199,
   "metadata": {
    "collapsed": false
   },
   "outputs": [],
   "source": [
    "jp_merge['po_lines_all.total_amount'] = jp_merge['po_lines_all.quantity'] * jp_merge['po_lines_all.unit_price']\n",
    "jp_merge['funding_agency_name'] = 'Small Business Administration'\n",
    "jp_merge['funding_agency_code'] = '073'\n",
    "jp_merge['funding_sub_tier_agency_name'] = 'Small Business Administration'\n",
    "jp_merge['funding_sub_tier_agency_code'] = '073'\n",
    "jp_merge['awarding_agency_name'] = 'Small Business Administration'\n",
    "jp_merge['awarding_agency_code'] = '073'\n",
    "jp_merge['awarding_sub_tier_agency_name'] = 'Small Business Administration'\n",
    "jp_merge['awarding_sub_tier_agency_code'] = '073'\n",
    "jp_merge['federal_agency'] = 'Small Business Administration'\n",
    "jp_merge['tas'] = '730100' #this is what was listed in itemacct.tas#"
   ]
  },
  {
   "cell_type": "markdown",
   "metadata": {},
   "source": [
    "## Reduce the Huge Merged File to DATA Act Elements"
   ]
  },
  {
   "cell_type": "code",
   "execution_count": 200,
   "metadata": {
    "collapsed": false
   },
   "outputs": [],
   "source": [
    "jp_merge = jp_merge.drop_duplicates()\n",
    "data_act = jp_merge[[\n",
    "    'po_lines_all.item_description', #award description\n",
    "    'po_headers_all.segment1', #award id\n",
    "    'header.issuingdocaddresskey', #awarding office code\n",
    "    'header.awarddate', #action date\n",
    "    'docvendor.name', #Recipient name\n",
    "    'po_distributions_all.attribute10', #period of performance start date\n",
    "    'po_distributions_all.attribute11', #period of performance end date\n",
    "    'docvendor.duns', #awardee/recipient legal business DUNS\n",
    "    'docvendor.dunsplus4', #awardee/recipient legal business DUNS+4\n",
    "    'docvendor.address1', #awardee/recipient legal business street address line 1\n",
    "    'ap_supplier_sites_all.address_line1', #just including this in to see if it matches address above\n",
    "    'ap_supplier_sites_all.address_line2', #awardee/recipient legal business street address line 2\n",
    "    'ap_supplier_sites_all.address_line3', #awardee/recipient legal business street address line 3\n",
    "    'ap_supplier_sites_all.city', #awardee/recipient legal business city\n",
    "    'ap_supplier_sites_all.state', #awardee/recipient state\n",
    "    'ap_supplier_sites_all.zip', #awardee/recipient us zip code + 4; awardee/recipient postal code\n",
    "    'grantheader.sba1222countyname', #recipient county name\n",
    "    'grantheader.sba1222countycode', #recipient county code\n",
    "    'po_lines_all.quantity',\n",
    "    'po_lines_all.unit_price',\n",
    "    'po_lines_all.total_amount', #funding action obligation (does not account for cancellations etc.)\n",
    "    'funding_agency_name', #funding agency name\n",
    "    'funding_agency_code', #funding agency code\n",
    "    'funding_sub_tier_agency_name', #funding sub-tier agency name\n",
    "    'funding_sub_tier_agency_code', #funding sub-tier agency code\n",
    "    'po_distributions_all.attribute_category', #type of award code\n",
    "    'header.obligatedamt', #amount of ba appropriated; obligation\n",
    "    'po_distributions_all.quantity_billed', #outlay\n",
    "    'gl_code_combinations.segment3', #funding office name\n",
    "    'gl_code_combinations.segment5', #object class woo!\n",
    "    'gl_code_combinations.code_combination_id', #appropriations account\n",
    "    'gl_code_combinations.segment4', #program activity\n",
    "    'grantheader.sba1222congdistno', #place of performance congressional district\n",
    "    'faadsciv.recordtype', #record type\n",
    "    'faadsciv.countycityname', #primary place of performance city code (note: there was no census_code columns)\n",
    "    'faadsciv.principalstatecode', #primary place of performance state code\n",
    "    'faadsciv.principalstatename', #primary place of performance state name\n",
    "    'faadsciv.placeofperfzip', #primary place of performance zip code + 4\n",
    "    'faadsciv.placeofperfcountrycode', #primary location of performance country code\n",
    "    'faadsciv.placeofperfcountryname', #primary location of performance country name\n",
    "    'faadsciv.cfdaprogramnumber', #cfda program number\n",
    "    'faadsciv.cfdaprogramtitle', #cfda program title\n",
    "    'docaddr.name', #awarding office name\n",
    "    'vendor2.businesstype', #recipient type\n",
    "    'funding_agency_name',\n",
    "    'funding_agency_code',\n",
    "    'funding_sub_tier_agency_name',\n",
    "    'funding_sub_tier_agency_code',\n",
    "    'awarding_agency_name',\n",
    "    'awarding_agency_code',\n",
    "    'awarding_sub_tier_agency_name',\n",
    "    'awarding_sub_tier_agency_code',\n",
    "    'federal_agency'\n",
    "    ]]\n",
    "\n",
    "#write out the data act file\n",
    "data_act.to_csv('data/data_act.csv', index = False)\n",
    "#also write out the entire merged file, so we can look for interesting things\n",
    "jp_merge.to_csv('data/jp_merge.csv', index = False)"
   ]
  }
 ],
 "metadata": {
  "kernelspec": {
   "display_name": "Python 2",
   "language": "python",
   "name": "python2"
  },
  "language_info": {
   "codemirror_mode": {
    "name": "ipython",
    "version": 2
   },
   "file_extension": ".py",
   "mimetype": "text/x-python",
   "name": "python",
   "nbconvert_exporter": "python",
   "pygments_lexer": "ipython2",
   "version": "2.7.9"
  }
 },
 "nbformat": 4,
 "nbformat_minor": 0
}
